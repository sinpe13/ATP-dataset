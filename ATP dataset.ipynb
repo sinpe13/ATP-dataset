{
 "cells": [
  {
   "cell_type": "code",
   "execution_count": 29,
   "metadata": {
    "collapsed": false
   },
   "outputs": [
    {
     "name": "stderr",
     "output_type": "stream",
     "text": [
      "/Users/petersinka/anaconda/lib/python3.5/site-packages/IPython/core/interactiveshell.py:2717: DtypeWarning: Columns (3,5,6,7,8,9,12,14,15,16,17,18,19,22,24,25,26,28,30,31,32,33,34,35,36,37,38,39,40,41,42,43,44,45,46,47,48) have mixed types. Specify dtype option on import or set low_memory=False.\n",
      "  interactivity=interactivity, compiler=compiler, result=result)\n"
     ]
    }
   ],
   "source": [
    "import pandas as pd\n",
    "from datetime import datetime\n",
    "df = pd.read_csv('ATP.csv')"
   ]
  },
  {
   "cell_type": "code",
   "execution_count": 61,
   "metadata": {
    "collapsed": false,
    "scrolled": true
   },
   "outputs": [],
   "source": [
    "df = df[df['tourney_date'] != 'tourney_date']\n",
    "df['winner_id'] = pd.to_numeric(df['winner_id'])\n",
    "df['loser_id'] = pd.to_numeric(df['loser_id'])"
   ]
  },
  {
   "cell_type": "markdown",
   "metadata": {},
   "source": [
    "## Most majors by players"
   ]
  },
  {
   "cell_type": "code",
   "execution_count": 62,
   "metadata": {
    "collapsed": false,
    "scrolled": true
   },
   "outputs": [
    {
     "data": {
      "text/plain": [
       "winner_name\n",
       "Roger Federer            18\n",
       "Rafael Nadal             14\n",
       "Pete Sampras             14\n",
       "Novak Djokovic           12\n",
       "Bjorn Borg               11\n",
       "Ivan Lendl                8\n",
       "Andre Agassi              8\n",
       "Jimmy Connors             8\n",
       "Mats Wilander             7\n",
       "John Mcenroe              7\n",
       "Stefan Edberg             6\n",
       "Boris Becker              6\n",
       "John Newcombe             5\n",
       "Rod Laver                 5\n",
       "Jim Courier               4\n",
       "Ken Rosewall              4\n",
       "Guillermo Vilas           4\n",
       "Gustavo Kuerten           3\n",
       "Jan Kodes                 3\n",
       "Arthur Ashe               3\n",
       "Andy Murray               3\n",
       "Stanislas Wawrinka        3\n",
       "Patrick Rafter            2\n",
       "Lleyton Hewitt            2\n",
       "Sergi Bruguera            2\n",
       "Stan Smith                2\n",
       "Marat Safin               2\n",
       "Yevgeny Kafelnikov        2\n",
       "Johan Kriek               2\n",
       "Ilie Nastase              2\n",
       "Albert Costa              1\n",
       "Richard Krajicek          1\n",
       "Yannick Noah              1\n",
       "Thomas Muster             1\n",
       "Thomas Johansson          1\n",
       "Andres Gimeno             1\n",
       "Andres Gomez              1\n",
       "Andy Roddick              1\n",
       "Bill Bowrey               1\n",
       "Roscoe Tanner             1\n",
       "Brian Teacher             1\n",
       "Carlos Moya               1\n",
       "Gaston Gaudio             1\n",
       "Manuel Orantes            1\n",
       "Petr Korda                1\n",
       "Goran Ivanisevic          1\n",
       "Pat Cash                  1\n",
       "Michael Stich             1\n",
       "Michael Chang             1\n",
       "Juan Carlos Ferrero       1\n",
       "Mark Edmondson            1\n",
       "Marin Cilic               1\n",
       "Juan Martin Del Potro     1\n",
       "Adriano Panatta           1\n",
       "Name: tourney_id, dtype: int64"
      ]
     },
     "execution_count": 62,
     "metadata": {},
     "output_type": "execute_result"
    }
   ],
   "source": [
    "# Most majors\n",
    "gs_winner_df = df[(df['tourney_level'] == 'G') & (df['round'] == 'F')]\n",
    "grouped = gs_winner_df.groupby('winner_name').count().sort_values('winner_id', ascending= False).ix[:,0]\n",
    "grouped"
   ]
  },
  {
   "cell_type": "markdown",
   "metadata": {},
   "source": [
    "## Create initial player ELO table"
   ]
  },
  {
   "cell_type": "code",
   "execution_count": 63,
   "metadata": {
    "collapsed": false
   },
   "outputs": [],
   "source": [
    "# List of all players in the data\n",
    "winner_names = df[['winner_name','winner_id']].drop_duplicates().set_index('winner_id')\n",
    "loser_names = df[['loser_name','loser_id']].drop_duplicates().rename(index=str, columns={\"loser_name\": \"winner_name\", \"loser_id\": \"winner_id\"}).set_index('winner_id')"
   ]
  },
  {
   "cell_type": "code",
   "execution_count": 64,
   "metadata": {
    "collapsed": false
   },
   "outputs": [],
   "source": [
    "# List of all players in the data\n",
    "winner_names = df[['winner_name','winner_id']].drop_duplicates()\n",
    "loser_names = df[['loser_name','loser_id']].drop_duplicates().rename(index=str, columns={\"loser_name\": \"winner_name\", \"loser_id\": \"winner_id\"})\n",
    "\n",
    "player_unique_list = pd.concat([winner_names, loser_names])\n",
    "\n",
    "player_unique_list['winner_id'] = pd.to_numeric(player_unique_list['winner_id'])\n",
    "\n",
    "player_unique_list = player_unique_list.drop_duplicates(['winner_name','winner_id']).set_index('winner_id')\n",
    "\n",
    "player_unique_list['elo_score'] = 1000"
   ]
  },
  {
   "cell_type": "code",
   "execution_count": 65,
   "metadata": {
    "collapsed": false,
    "scrolled": true
   },
   "outputs": [
    {
     "data": {
      "text/html": [
       "<div>\n",
       "<table border=\"1\" class=\"dataframe\">\n",
       "  <thead>\n",
       "    <tr style=\"text-align: right;\">\n",
       "      <th></th>\n",
       "      <th>winner_name</th>\n",
       "      <th>elo_score</th>\n",
       "    </tr>\n",
       "    <tr>\n",
       "      <th>winner_id</th>\n",
       "      <th></th>\n",
       "      <th></th>\n",
       "    </tr>\n",
       "  </thead>\n",
       "  <tbody>\n",
       "    <tr>\n",
       "      <th>103819</th>\n",
       "      <td>Roger Federer</td>\n",
       "      <td>1000</td>\n",
       "    </tr>\n",
       "  </tbody>\n",
       "</table>\n",
       "</div>"
      ],
      "text/plain": [
       "             winner_name  elo_score\n",
       "winner_id                          \n",
       "103819     Roger Federer       1000"
      ]
     },
     "execution_count": 65,
     "metadata": {},
     "output_type": "execute_result"
    }
   ],
   "source": [
    "player_unique_list[player_unique_list['winner_name'] == 'Roger Federer']"
   ]
  },
  {
   "cell_type": "code",
   "execution_count": 66,
   "metadata": {
    "collapsed": false,
    "scrolled": true
   },
   "outputs": [
    {
     "data": {
      "text/html": [
       "<div>\n",
       "<table border=\"1\" class=\"dataframe\">\n",
       "  <thead>\n",
       "    <tr style=\"text-align: right;\">\n",
       "      <th></th>\n",
       "      <th>winner_name</th>\n",
       "      <th>elo_score</th>\n",
       "    </tr>\n",
       "    <tr>\n",
       "      <th>winner_id</th>\n",
       "      <th></th>\n",
       "      <th></th>\n",
       "    </tr>\n",
       "  </thead>\n",
       "  <tbody>\n",
       "    <tr>\n",
       "      <th>110023</th>\n",
       "      <td>Richard Coulthard</td>\n",
       "      <td>1000</td>\n",
       "    </tr>\n",
       "    <tr>\n",
       "      <th>110059</th>\n",
       "      <td>James Ferguson</td>\n",
       "      <td>1000</td>\n",
       "    </tr>\n",
       "    <tr>\n",
       "      <th>106951</th>\n",
       "      <td>Eric Baer</td>\n",
       "      <td>1000</td>\n",
       "    </tr>\n",
       "    <tr>\n",
       "      <th>106634</th>\n",
       "      <td>Bob Brien</td>\n",
       "      <td>1000</td>\n",
       "    </tr>\n",
       "    <tr>\n",
       "      <th>107378</th>\n",
       "      <td>John Burrman</td>\n",
       "      <td>1000</td>\n",
       "    </tr>\n",
       "    <tr>\n",
       "      <th>110022</th>\n",
       "      <td>Steve Wedderburn</td>\n",
       "      <td>1000</td>\n",
       "    </tr>\n",
       "    <tr>\n",
       "      <th>107898</th>\n",
       "      <td>Osamu Ishiguro</td>\n",
       "      <td>1000</td>\n",
       "    </tr>\n",
       "    <tr>\n",
       "      <th>125708</th>\n",
       "      <td>Song Kean Tan</td>\n",
       "      <td>1000</td>\n",
       "    </tr>\n",
       "    <tr>\n",
       "      <th>125691</th>\n",
       "      <td>Georges Logelin</td>\n",
       "      <td>1000</td>\n",
       "    </tr>\n",
       "    <tr>\n",
       "      <th>125586</th>\n",
       "      <td>Kenneth Tsui</td>\n",
       "      <td>1000</td>\n",
       "    </tr>\n",
       "    <tr>\n",
       "      <th>125685</th>\n",
       "      <td>Fong Ling</td>\n",
       "      <td>1000</td>\n",
       "    </tr>\n",
       "    <tr>\n",
       "      <th>125676</th>\n",
       "      <td>Pieter Soeters</td>\n",
       "      <td>1000</td>\n",
       "    </tr>\n",
       "    <tr>\n",
       "      <th>110879</th>\n",
       "      <td>Alberto Laborde</td>\n",
       "      <td>1000</td>\n",
       "    </tr>\n",
       "    <tr>\n",
       "      <th>110447</th>\n",
       "      <td>Leo Rolle</td>\n",
       "      <td>1000</td>\n",
       "    </tr>\n",
       "    <tr>\n",
       "      <th>110439</th>\n",
       "      <td>Beyazit Anbar</td>\n",
       "      <td>1000</td>\n",
       "    </tr>\n",
       "    <tr>\n",
       "      <th>125622</th>\n",
       "      <td>Ricardo Bernd</td>\n",
       "      <td>1000</td>\n",
       "    </tr>\n",
       "    <tr>\n",
       "      <th>110116</th>\n",
       "      <td>O Escribano</td>\n",
       "      <td>1000</td>\n",
       "    </tr>\n",
       "    <tr>\n",
       "      <th>109923</th>\n",
       "      <td>Roberto Aubone</td>\n",
       "      <td>1000</td>\n",
       "    </tr>\n",
       "    <tr>\n",
       "      <th>110339</th>\n",
       "      <td>Rodolfo Cisneros</td>\n",
       "      <td>1000</td>\n",
       "    </tr>\n",
       "    <tr>\n",
       "      <th>110224</th>\n",
       "      <td>Robert Bedard</td>\n",
       "      <td>1000</td>\n",
       "    </tr>\n",
       "    <tr>\n",
       "      <th>110329</th>\n",
       "      <td>Robert Puddicombe</td>\n",
       "      <td>1000</td>\n",
       "    </tr>\n",
       "    <tr>\n",
       "      <th>100542</th>\n",
       "      <td>Geoff Macdonald</td>\n",
       "      <td>1000</td>\n",
       "    </tr>\n",
       "    <tr>\n",
       "      <th>109851</th>\n",
       "      <td>Manuel Gallardo</td>\n",
       "      <td>1000</td>\n",
       "    </tr>\n",
       "    <tr>\n",
       "      <th>109852</th>\n",
       "      <td>Amable Plaza</td>\n",
       "      <td>1000</td>\n",
       "    </tr>\n",
       "    <tr>\n",
       "      <th>109894</th>\n",
       "      <td>Pierre Lamarche</td>\n",
       "      <td>1000</td>\n",
       "    </tr>\n",
       "    <tr>\n",
       "      <th>110058</th>\n",
       "      <td>David Mitchell</td>\n",
       "      <td>1000</td>\n",
       "    </tr>\n",
       "    <tr>\n",
       "      <th>110057</th>\n",
       "      <td>Ross Mcghie</td>\n",
       "      <td>1000</td>\n",
       "    </tr>\n",
       "    <tr>\n",
       "      <th>110056</th>\n",
       "      <td>Ray Keenan</td>\n",
       "      <td>1000</td>\n",
       "    </tr>\n",
       "    <tr>\n",
       "      <th>110055</th>\n",
       "      <td>Kevin Long</td>\n",
       "      <td>1000</td>\n",
       "    </tr>\n",
       "    <tr>\n",
       "      <th>110054</th>\n",
       "      <td>Paul Thompson</td>\n",
       "      <td>1000</td>\n",
       "    </tr>\n",
       "    <tr>\n",
       "      <th>...</th>\n",
       "      <td>...</td>\n",
       "      <td>...</td>\n",
       "    </tr>\n",
       "    <tr>\n",
       "      <th>102358</th>\n",
       "      <td>Thomas Enqvist</td>\n",
       "      <td>1000</td>\n",
       "    </tr>\n",
       "    <tr>\n",
       "      <th>101857</th>\n",
       "      <td>Jason Cask</td>\n",
       "      <td>1000</td>\n",
       "    </tr>\n",
       "    <tr>\n",
       "      <th>101920</th>\n",
       "      <td>Jamie Morgan</td>\n",
       "      <td>1000</td>\n",
       "    </tr>\n",
       "    <tr>\n",
       "      <th>101513</th>\n",
       "      <td>John Stimpson</td>\n",
       "      <td>1000</td>\n",
       "    </tr>\n",
       "    <tr>\n",
       "      <th>101317</th>\n",
       "      <td>John Sullivan</td>\n",
       "      <td>1000</td>\n",
       "    </tr>\n",
       "    <tr>\n",
       "      <th>102110</th>\n",
       "      <td>Daniel Nestor</td>\n",
       "      <td>1000</td>\n",
       "    </tr>\n",
       "    <tr>\n",
       "      <th>101917</th>\n",
       "      <td>Grant Stafford</td>\n",
       "      <td>1000</td>\n",
       "    </tr>\n",
       "    <tr>\n",
       "      <th>102033</th>\n",
       "      <td>Abdelhak Hameurlaine</td>\n",
       "      <td>1000</td>\n",
       "    </tr>\n",
       "    <tr>\n",
       "      <th>101101</th>\n",
       "      <td>Richard Ashby</td>\n",
       "      <td>1000</td>\n",
       "    </tr>\n",
       "    <tr>\n",
       "      <th>106527</th>\n",
       "      <td>Andreas Fikas</td>\n",
       "      <td>1000</td>\n",
       "    </tr>\n",
       "    <tr>\n",
       "      <th>108161</th>\n",
       "      <td>Roland So</td>\n",
       "      <td>1000</td>\n",
       "    </tr>\n",
       "    <tr>\n",
       "      <th>101417</th>\n",
       "      <td>Mario Rincon</td>\n",
       "      <td>1000</td>\n",
       "    </tr>\n",
       "    <tr>\n",
       "      <th>101167</th>\n",
       "      <td>Jaime Cortes</td>\n",
       "      <td>1000</td>\n",
       "    </tr>\n",
       "    <tr>\n",
       "      <th>110890</th>\n",
       "      <td>Lionel Kemajou</td>\n",
       "      <td>1000</td>\n",
       "    </tr>\n",
       "    <tr>\n",
       "      <th>108323</th>\n",
       "      <td>Steven Kangwa</td>\n",
       "      <td>1000</td>\n",
       "    </tr>\n",
       "    <tr>\n",
       "      <th>110905</th>\n",
       "      <td>Fred Kangwa</td>\n",
       "      <td>1000</td>\n",
       "    </tr>\n",
       "    <tr>\n",
       "      <th>102331</th>\n",
       "      <td>Ilou Lonfo</td>\n",
       "      <td>1000</td>\n",
       "    </tr>\n",
       "    <tr>\n",
       "      <th>106936</th>\n",
       "      <td>Emile Ngoran</td>\n",
       "      <td>1000</td>\n",
       "    </tr>\n",
       "    <tr>\n",
       "      <th>102018</th>\n",
       "      <td>Tamer El Sawy</td>\n",
       "      <td>1000</td>\n",
       "    </tr>\n",
       "    <tr>\n",
       "      <th>101577</th>\n",
       "      <td>Jia Ping Xia</td>\n",
       "      <td>1000</td>\n",
       "    </tr>\n",
       "    <tr>\n",
       "      <th>107382</th>\n",
       "      <td>John Farrington</td>\n",
       "      <td>1000</td>\n",
       "    </tr>\n",
       "    <tr>\n",
       "      <th>110876</th>\n",
       "      <td>Norbert Oduor</td>\n",
       "      <td>1000</td>\n",
       "    </tr>\n",
       "    <tr>\n",
       "      <th>107534</th>\n",
       "      <td>Kush Bhardwaj</td>\n",
       "      <td>1000</td>\n",
       "    </tr>\n",
       "    <tr>\n",
       "      <th>108733</th>\n",
       "      <td>Jose Medrano</td>\n",
       "      <td>1000</td>\n",
       "    </tr>\n",
       "    <tr>\n",
       "      <th>102314</th>\n",
       "      <td>Rodrigo Navarro</td>\n",
       "      <td>1000</td>\n",
       "    </tr>\n",
       "    <tr>\n",
       "      <th>108849</th>\n",
       "      <td>Rohan De Silva</td>\n",
       "      <td>1000</td>\n",
       "    </tr>\n",
       "    <tr>\n",
       "      <th>110817</th>\n",
       "      <td>Ifthekar Sardar</td>\n",
       "      <td>1000</td>\n",
       "    </tr>\n",
       "    <tr>\n",
       "      <th>100754</th>\n",
       "      <td>Rafael Avalos Brenes</td>\n",
       "      <td>1000</td>\n",
       "    </tr>\n",
       "    <tr>\n",
       "      <th>101991</th>\n",
       "      <td>Mauricio Hadad</td>\n",
       "      <td>1000</td>\n",
       "    </tr>\n",
       "    <tr>\n",
       "      <th>123315</th>\n",
       "      <td>Nicholas Campbell</td>\n",
       "      <td>1000</td>\n",
       "    </tr>\n",
       "  </tbody>\n",
       "</table>\n",
       "<p>5664 rows × 2 columns</p>\n",
       "</div>"
      ],
      "text/plain": [
       "                    winner_name  elo_score\n",
       "winner_id                                 \n",
       "110023        Richard Coulthard       1000\n",
       "110059           James Ferguson       1000\n",
       "106951                Eric Baer       1000\n",
       "106634                Bob Brien       1000\n",
       "107378             John Burrman       1000\n",
       "110022         Steve Wedderburn       1000\n",
       "107898           Osamu Ishiguro       1000\n",
       "125708            Song Kean Tan       1000\n",
       "125691          Georges Logelin       1000\n",
       "125586             Kenneth Tsui       1000\n",
       "125685                Fong Ling       1000\n",
       "125676           Pieter Soeters       1000\n",
       "110879          Alberto Laborde       1000\n",
       "110447                Leo Rolle       1000\n",
       "110439            Beyazit Anbar       1000\n",
       "125622            Ricardo Bernd       1000\n",
       "110116              O Escribano       1000\n",
       "109923           Roberto Aubone       1000\n",
       "110339         Rodolfo Cisneros       1000\n",
       "110224            Robert Bedard       1000\n",
       "110329        Robert Puddicombe       1000\n",
       "100542          Geoff Macdonald       1000\n",
       "109851          Manuel Gallardo       1000\n",
       "109852             Amable Plaza       1000\n",
       "109894          Pierre Lamarche       1000\n",
       "110058           David Mitchell       1000\n",
       "110057              Ross Mcghie       1000\n",
       "110056               Ray Keenan       1000\n",
       "110055               Kevin Long       1000\n",
       "110054            Paul Thompson       1000\n",
       "...                         ...        ...\n",
       "102358           Thomas Enqvist       1000\n",
       "101857               Jason Cask       1000\n",
       "101920             Jamie Morgan       1000\n",
       "101513            John Stimpson       1000\n",
       "101317            John Sullivan       1000\n",
       "102110            Daniel Nestor       1000\n",
       "101917           Grant Stafford       1000\n",
       "102033     Abdelhak Hameurlaine       1000\n",
       "101101            Richard Ashby       1000\n",
       "106527            Andreas Fikas       1000\n",
       "108161                Roland So       1000\n",
       "101417             Mario Rincon       1000\n",
       "101167             Jaime Cortes       1000\n",
       "110890           Lionel Kemajou       1000\n",
       "108323            Steven Kangwa       1000\n",
       "110905              Fred Kangwa       1000\n",
       "102331               Ilou Lonfo       1000\n",
       "106936             Emile Ngoran       1000\n",
       "102018            Tamer El Sawy       1000\n",
       "101577             Jia Ping Xia       1000\n",
       "107382          John Farrington       1000\n",
       "110876            Norbert Oduor       1000\n",
       "107534            Kush Bhardwaj       1000\n",
       "108733             Jose Medrano       1000\n",
       "102314          Rodrigo Navarro       1000\n",
       "108849           Rohan De Silva       1000\n",
       "110817          Ifthekar Sardar       1000\n",
       "100754     Rafael Avalos Brenes       1000\n",
       "101991           Mauricio Hadad       1000\n",
       "123315        Nicholas Campbell       1000\n",
       "\n",
       "[5664 rows x 2 columns]"
      ]
     },
     "execution_count": 66,
     "metadata": {},
     "output_type": "execute_result"
    }
   ],
   "source": [
    "player_unique_list.sort_values('elo_score', ascending = False)"
   ]
  },
  {
   "cell_type": "markdown",
   "metadata": {},
   "source": [
    "## Create time series from the data"
   ]
  },
  {
   "cell_type": "code",
   "execution_count": 67,
   "metadata": {
    "collapsed": true
   },
   "outputs": [],
   "source": [
    "from dateutil.parser import parse"
   ]
  },
  {
   "cell_type": "code",
   "execution_count": 68,
   "metadata": {
    "collapsed": false
   },
   "outputs": [],
   "source": [
    "# Parse timestamp from tourney date\n",
    "df['timestamp'] = df.loc[:,'tourney_date'].apply(lambda x: parse(str(x)))"
   ]
  },
  {
   "cell_type": "markdown",
   "metadata": {},
   "source": [
    "K-s based on Tourney level:\n",
    "G: major\n",
    "D: Davis Cup\n",
    "M: Major tournament\n",
    "C: Challanger\n",
    "F: Final\n",
    "A: regular tournament"
   ]
  },
  {
   "cell_type": "code",
   "execution_count": 69,
   "metadata": {
    "collapsed": false
   },
   "outputs": [],
   "source": [
    "# Setting timestamp as index\n",
    "df = df.set_index(df['timestamp'])"
   ]
  },
  {
   "cell_type": "code",
   "execution_count": 70,
   "metadata": {
    "collapsed": true
   },
   "outputs": [],
   "source": [
    "columns_needed_for_elo = [\n",
    "    'tourney_id',\n",
    "    'tourney_name',\n",
    "    'draw_size',\n",
    "    'tourney_level',\n",
    "    'winner_id',\n",
    "    'winner_name',\n",
    "    'loser_id',\n",
    "    'loser_name',\n",
    "    'score',\n",
    "    'best_of',\n",
    "    'round'\n",
    "]"
   ]
  },
  {
   "cell_type": "code",
   "execution_count": 71,
   "metadata": {
    "collapsed": true
   },
   "outputs": [],
   "source": [
    "elo_df = df[columns_needed_for_elo]"
   ]
  },
  {
   "cell_type": "code",
   "execution_count": 75,
   "metadata": {
    "collapsed": false
   },
   "outputs": [
    {
     "data": {
      "text/plain": [
       "163965"
      ]
     },
     "execution_count": 75,
     "metadata": {},
     "output_type": "execute_result"
    }
   ],
   "source": [
    "len(elo_df)"
   ]
  },
  {
   "cell_type": "markdown",
   "metadata": {},
   "source": [
    "## Calculating score difference to reward straight set wins in ELO."
   ]
  },
  {
   "cell_type": "code",
   "execution_count": 73,
   "metadata": {
    "collapsed": false
   },
   "outputs": [],
   "source": [
    "def score_diff(score, best_of):\n",
    "    if ((len(score.split()) == 3) and (best_of == 5)) or ((len(score.split()) == 2) and (best_of == 3)):\n",
    "        return 1.75\n",
    "    elif (len(score.split()) == 4) and (best_of == 5):\n",
    "        return 1.5\n",
    "    else:\n",
    "        return 1"
   ]
  },
  {
   "cell_type": "code",
   "execution_count": 74,
   "metadata": {
    "collapsed": false
   },
   "outputs": [
    {
     "name": "stderr",
     "output_type": "stream",
     "text": [
      "/Users/petersinka/anaconda/lib/python3.5/site-packages/ipykernel/__main__.py:1: SettingWithCopyWarning: \n",
      "A value is trying to be set on a copy of a slice from a DataFrame.\n",
      "Try using .loc[row_indexer,col_indexer] = value instead\n",
      "\n",
      "See the caveats in the documentation: http://pandas.pydata.org/pandas-docs/stable/indexing.html#indexing-view-versus-copy\n",
      "  if __name__ == '__main__':\n"
     ]
    }
   ],
   "source": [
    "elo_df['score_diff'] = elo_df.apply(lambda x: score_diff(str(x['score']), x['best_of']), axis = 1)"
   ]
  },
  {
   "cell_type": "markdown",
   "metadata": {},
   "source": [
    "## Calculate ELO ratings"
   ]
  },
  {
   "cell_type": "code",
   "execution_count": 76,
   "metadata": {
    "collapsed": false
   },
   "outputs": [],
   "source": [
    "def expected(A, B):\n",
    "    \"\"\"\n",
    "    Calculate expected score of A in a match against B\n",
    "    :param A: Elo rating for player A\n",
    "    :param B: Elo rating for player B\n",
    "    \"\"\"\n",
    "    return 1 / (1 + 10 ** ((B - A) / 400))\n",
    "\n",
    "\n",
    "def elo(old, expected, score, score_diff, k=30):\n",
    "    \"\"\"\n",
    "    Calculate the new Elo rating for a player\n",
    "    :param old: The previous Elo rating\n",
    "    :param exp: The expected score for this match\n",
    "    :param score: The actual score for this match\n",
    "    :param k: The k-factor for Elo (default: 32)\n",
    "    :param score_diff: calculated score diff for result\n",
    "    \"\"\"\n",
    "    return old + k * score_diff * (score - expected)"
   ]
  },
  {
   "cell_type": "code",
   "execution_count": 77,
   "metadata": {
    "collapsed": false
   },
   "outputs": [
    {
     "data": {
      "text/html": [
       "<div>\n",
       "<table border=\"1\" class=\"dataframe\">\n",
       "  <thead>\n",
       "    <tr style=\"text-align: right;\">\n",
       "      <th></th>\n",
       "      <th>winner_name</th>\n",
       "      <th>elo_score</th>\n",
       "    </tr>\n",
       "    <tr>\n",
       "      <th>winner_id</th>\n",
       "      <th></th>\n",
       "      <th></th>\n",
       "    </tr>\n",
       "  </thead>\n",
       "  <tbody>\n",
       "    <tr>\n",
       "      <th>110023</th>\n",
       "      <td>Richard Coulthard</td>\n",
       "      <td>1000</td>\n",
       "    </tr>\n",
       "    <tr>\n",
       "      <th>109803</th>\n",
       "      <td>John Brown</td>\n",
       "      <td>1000</td>\n",
       "    </tr>\n",
       "    <tr>\n",
       "      <th>100257</th>\n",
       "      <td>Ross Case</td>\n",
       "      <td>1000</td>\n",
       "    </tr>\n",
       "    <tr>\n",
       "      <th>100105</th>\n",
       "      <td>Allan Stone</td>\n",
       "      <td>1000</td>\n",
       "    </tr>\n",
       "    <tr>\n",
       "      <th>109966</th>\n",
       "      <td>Warren Jacques</td>\n",
       "      <td>1000</td>\n",
       "    </tr>\n",
       "  </tbody>\n",
       "</table>\n",
       "</div>"
      ],
      "text/plain": [
       "                 winner_name  elo_score\n",
       "winner_id                              \n",
       "110023     Richard Coulthard       1000\n",
       "109803            John Brown       1000\n",
       "100257             Ross Case       1000\n",
       "100105           Allan Stone       1000\n",
       "109966        Warren Jacques       1000"
      ]
     },
     "execution_count": 77,
     "metadata": {},
     "output_type": "execute_result"
    }
   ],
   "source": [
    "player_unique_list.head()"
   ]
  },
  {
   "cell_type": "code",
   "execution_count": 84,
   "metadata": {
    "collapsed": false
   },
   "outputs": [
    {
     "data": {
      "text/html": [
       "<div>\n",
       "<table border=\"1\" class=\"dataframe\">\n",
       "  <thead>\n",
       "    <tr style=\"text-align: right;\">\n",
       "      <th></th>\n",
       "      <th>tourney_id</th>\n",
       "      <th>tourney_name</th>\n",
       "      <th>draw_size</th>\n",
       "      <th>tourney_level</th>\n",
       "      <th>winner_id</th>\n",
       "      <th>winner_name</th>\n",
       "      <th>loser_id</th>\n",
       "      <th>loser_name</th>\n",
       "      <th>score</th>\n",
       "      <th>best_of</th>\n",
       "      <th>round</th>\n",
       "      <th>score_diff</th>\n",
       "    </tr>\n",
       "    <tr>\n",
       "      <th>timestamp</th>\n",
       "      <th></th>\n",
       "      <th></th>\n",
       "      <th></th>\n",
       "      <th></th>\n",
       "      <th></th>\n",
       "      <th></th>\n",
       "      <th></th>\n",
       "      <th></th>\n",
       "      <th></th>\n",
       "      <th></th>\n",
       "      <th></th>\n",
       "      <th></th>\n",
       "    </tr>\n",
       "  </thead>\n",
       "  <tbody>\n",
       "    <tr>\n",
       "      <th>2017-02-03</th>\n",
       "      <td>2017-M-DC-2017-WG-M-RUS-SRB-01</td>\n",
       "      <td>Davis Cup WG R1: RUS vs SRB</td>\n",
       "      <td>4</td>\n",
       "      <td>D</td>\n",
       "      <td>106421</td>\n",
       "      <td>Daniil Medvedev</td>\n",
       "      <td>102800</td>\n",
       "      <td>Nenad Zimonjic</td>\n",
       "      <td>Walkover</td>\n",
       "      <td>3</td>\n",
       "      <td>RR</td>\n",
       "      <td>1.00</td>\n",
       "    </tr>\n",
       "    <tr>\n",
       "      <th>2017-02-03</th>\n",
       "      <td>2017-M-DC-2017-WG-M-SUI-USA-01</td>\n",
       "      <td>Davis Cup WG R1: SUI vs USA</td>\n",
       "      <td>4</td>\n",
       "      <td>D</td>\n",
       "      <td>106058</td>\n",
       "      <td>Jack Sock</td>\n",
       "      <td>103843</td>\n",
       "      <td>Marco Chiudinelli</td>\n",
       "      <td>6-4 6-3 6-1</td>\n",
       "      <td>5</td>\n",
       "      <td>RR</td>\n",
       "      <td>1.75</td>\n",
       "    </tr>\n",
       "    <tr>\n",
       "      <th>2017-02-03</th>\n",
       "      <td>2017-M-DC-2017-WG-M-SUI-USA-01</td>\n",
       "      <td>Davis Cup WG R1: SUI vs USA</td>\n",
       "      <td>4</td>\n",
       "      <td>D</td>\n",
       "      <td>104545</td>\n",
       "      <td>John Isner</td>\n",
       "      <td>105967</td>\n",
       "      <td>Henri Laaksonen</td>\n",
       "      <td>4-6 6-2 6-2 7-6(1)</td>\n",
       "      <td>5</td>\n",
       "      <td>RR</td>\n",
       "      <td>1.50</td>\n",
       "    </tr>\n",
       "    <tr>\n",
       "      <th>2017-02-03</th>\n",
       "      <td>2017-M-DC-2017-WG-M-SUI-USA-01</td>\n",
       "      <td>Davis Cup WG R1: SUI vs USA</td>\n",
       "      <td>4</td>\n",
       "      <td>D</td>\n",
       "      <td>105023</td>\n",
       "      <td>Sam Querrey</td>\n",
       "      <td>104847</td>\n",
       "      <td>Adrien Bossel</td>\n",
       "      <td>6-3 7-5</td>\n",
       "      <td>3</td>\n",
       "      <td>RR</td>\n",
       "      <td>1.75</td>\n",
       "    </tr>\n",
       "    <tr>\n",
       "      <th>2017-02-03</th>\n",
       "      <td>2017-M-DC-2017-WG-M-SUI-USA-01</td>\n",
       "      <td>Davis Cup WG R1: SUI vs USA</td>\n",
       "      <td>4</td>\n",
       "      <td>D</td>\n",
       "      <td>105449</td>\n",
       "      <td>Steve Johnson</td>\n",
       "      <td>134472</td>\n",
       "      <td>Antoine Bellier</td>\n",
       "      <td>6-4 6-3</td>\n",
       "      <td>3</td>\n",
       "      <td>RR</td>\n",
       "      <td>1.75</td>\n",
       "    </tr>\n",
       "  </tbody>\n",
       "</table>\n",
       "</div>"
      ],
      "text/plain": [
       "                                tourney_id                 tourney_name  \\\n",
       "timestamp                                                                 \n",
       "2017-02-03  2017-M-DC-2017-WG-M-RUS-SRB-01  Davis Cup WG R1: RUS vs SRB   \n",
       "2017-02-03  2017-M-DC-2017-WG-M-SUI-USA-01  Davis Cup WG R1: SUI vs USA   \n",
       "2017-02-03  2017-M-DC-2017-WG-M-SUI-USA-01  Davis Cup WG R1: SUI vs USA   \n",
       "2017-02-03  2017-M-DC-2017-WG-M-SUI-USA-01  Davis Cup WG R1: SUI vs USA   \n",
       "2017-02-03  2017-M-DC-2017-WG-M-SUI-USA-01  Davis Cup WG R1: SUI vs USA   \n",
       "\n",
       "           draw_size tourney_level  winner_id      winner_name  loser_id  \\\n",
       "timestamp                                                                  \n",
       "2017-02-03         4             D     106421  Daniil Medvedev    102800   \n",
       "2017-02-03         4             D     106058        Jack Sock    103843   \n",
       "2017-02-03         4             D     104545       John Isner    105967   \n",
       "2017-02-03         4             D     105023      Sam Querrey    104847   \n",
       "2017-02-03         4             D     105449    Steve Johnson    134472   \n",
       "\n",
       "                   loser_name               score best_of round  score_diff  \n",
       "timestamp                                                                    \n",
       "2017-02-03     Nenad Zimonjic            Walkover       3    RR        1.00  \n",
       "2017-02-03  Marco Chiudinelli         6-4 6-3 6-1       5    RR        1.75  \n",
       "2017-02-03    Henri Laaksonen  4-6 6-2 6-2 7-6(1)       5    RR        1.50  \n",
       "2017-02-03      Adrien Bossel             6-3 7-5       3    RR        1.75  \n",
       "2017-02-03    Antoine Bellier             6-4 6-3       3    RR        1.75  "
      ]
     },
     "execution_count": 84,
     "metadata": {},
     "output_type": "execute_result"
    }
   ],
   "source": [
    "elo_df.tail()"
   ]
  },
  {
   "cell_type": "code",
   "execution_count": 80,
   "metadata": {
    "collapsed": false
   },
   "outputs": [],
   "source": [
    "def elo_calc(row):\n",
    "    prev_elo_winner = player_unique_list.loc[row['winner_id'],'elo_score']\n",
    "    prev_elo_loser = player_unique_list.loc[row['loser_id'],'elo_score']\n",
    "    \n",
    "    exp_win = expected(prev_elo_winner, prev_elo_loser)\n",
    "    exp_lose = expected(prev_elo_loser, prev_elo_winner)\n",
    "    \n",
    "    elo_winner = elo(prev_elo_winner, exp_win, 1, row['score_diff'])\n",
    "    elo_loser = elo(prev_elo_loser, exp_lose, 0, row['score_diff'])\n",
    "    \n",
    "    player_unique_list.loc[row['winner_id'],'elo_score'] = elo_winner\n",
    "    player_unique_list.loc[row['loser_id'],'elo_score'] = elo_loser\n",
    "    \n",
    "    #return [elo_winner, elo_loser]\n",
    "\n",
    "    return pd.Series({'elo_winner': elo_winner, 'elo_loser':elo_loser}) "
   ]
  },
  {
   "cell_type": "code",
   "execution_count": 81,
   "metadata": {
    "collapsed": false,
    "scrolled": true
   },
   "outputs": [],
   "source": [
    "elo_scores = elo_df.apply(lambda x: elo_calc(x), axis = 1)"
   ]
  },
  {
   "cell_type": "code",
   "execution_count": 101,
   "metadata": {
    "collapsed": false
   },
   "outputs": [
    {
     "name": "stderr",
     "output_type": "stream",
     "text": [
      "/Users/petersinka/anaconda/lib/python3.5/site-packages/ipykernel/__main__.py:1: SettingWithCopyWarning: \n",
      "A value is trying to be set on a copy of a slice from a DataFrame.\n",
      "Try using .loc[row_indexer,col_indexer] = value instead\n",
      "\n",
      "See the caveats in the documentation: http://pandas.pydata.org/pandas-docs/stable/indexing.html#indexing-view-versus-copy\n",
      "  if __name__ == '__main__':\n",
      "/Users/petersinka/anaconda/lib/python3.5/site-packages/ipykernel/__main__.py:2: SettingWithCopyWarning: \n",
      "A value is trying to be set on a copy of a slice from a DataFrame.\n",
      "Try using .loc[row_indexer,col_indexer] = value instead\n",
      "\n",
      "See the caveats in the documentation: http://pandas.pydata.org/pandas-docs/stable/indexing.html#indexing-view-versus-copy\n",
      "  from ipykernel import kernelapp as app\n"
     ]
    }
   ],
   "source": [
    "elo_df['elo_loser'] = elo_scores.iloc[:,0]\n",
    "elo_df['elo_winner'] = elo_scores.iloc[:,1]"
   ]
  },
  {
   "cell_type": "code",
   "execution_count": 105,
   "metadata": {
    "collapsed": false
   },
   "outputs": [],
   "source": [
    "roger_federer = elo_df[elo_df['winner_name'] == 'Roger Federer']['elo_winner']\n",
    "novak_djokovic = elo_df[elo_df['winner_name'] == 'Novak Djokovic']['elo_winner']\n",
    "rafael_nadal = elo_df[elo_df['winner_name'] == 'Rafael Nadal']['elo_winner']"
   ]
  },
  {
   "cell_type": "code",
   "execution_count": 106,
   "metadata": {
    "collapsed": true
   },
   "outputs": [],
   "source": [
    "%matplotlib inline\n",
    "import matplotlib.pyplot as plt"
   ]
  },
  {
   "cell_type": "code",
   "execution_count": 107,
   "metadata": {
    "collapsed": false
   },
   "outputs": [],
   "source": [
    "roger_federer = roger_federer.groupby(level=0).mean()\n",
    "novak_djokovic = novak_djokovic.groupby(level=0).mean()\n",
    "rafael_nadal = rafael_nadal.groupby(level=0).mean()"
   ]
  },
  {
   "cell_type": "code",
   "execution_count": 49,
   "metadata": {
    "collapsed": false,
    "scrolled": true
   },
   "outputs": [],
   "source": [
    "#roger_federer = roger_federer[datetime(2015,1,1):datetime(2016,1,1)]\n",
    "#novak_djokovic = novak_djokovic[datetime(2015,1,1):datetime(2016,1,1)]\n",
    "#rafael_nadal = rafael_nadal[datetime(2015,1,1):datetime(2016,1,1)]"
   ]
  },
  {
   "cell_type": "code",
   "execution_count": 108,
   "metadata": {
    "collapsed": false
   },
   "outputs": [
    {
     "data": {
      "text/plain": [
       "<matplotlib.legend.Legend at 0x139362d30>"
      ]
     },
     "execution_count": 108,
     "metadata": {},
     "output_type": "execute_result"
    },
    {
     "data": {
      "image/png": "[encoded data removed]",
      "text/plain": [
       "<matplotlib.figure.Figure at 0x139362518>"
      ]
     },
     "metadata": {},
     "output_type": "display_data"
    }
   ],
   "source": [
    "roger_federer.plot(label= 'Federer')\n",
    "novak_djokovic.plot(label= 'Djokovic')\n",
    "rafael_nadal.plot(label= 'Nadal')\n",
    "plt.legend(loc='best')"
   ]
  },
  {
   "cell_type": "code",
   "execution_count": 110,
   "metadata": {
    "collapsed": false
   },
   "outputs": [
    {
     "ename": "KeyError",
     "evalue": "1443657600000000000",
     "output_type": "error",
     "traceback": [
      "\u001b[0;31m---------------------------------------------------------------------------\u001b[0m",
      "\u001b[0;31mValueError\u001b[0m                                Traceback (most recent call last)",
      "\u001b[0;32m/Users/petersinka/anaconda/lib/python3.5/site-packages/pandas/indexes/base.py\u001b[0m in \u001b[0;36mget_slice_bound\u001b[0;34m(self, label, side, kind)\u001b[0m\n\u001b[1;32m   2909\u001b[0m             \u001b[0;32mtry\u001b[0m\u001b[0;34m:\u001b[0m\u001b[0;34m\u001b[0m\u001b[0m\n\u001b[0;32m-> 2910\u001b[0;31m                 \u001b[0;32mreturn\u001b[0m \u001b[0mself\u001b[0m\u001b[0;34m.\u001b[0m\u001b[0m_searchsorted_monotonic\u001b[0m\u001b[0;34m(\u001b[0m\u001b[0mlabel\u001b[0m\u001b[0;34m,\u001b[0m \u001b[0mside\u001b[0m\u001b[0;34m)\u001b[0m\u001b[0;34m\u001b[0m\u001b[0m\n\u001b[0m\u001b[1;32m   2911\u001b[0m             \u001b[0;32mexcept\u001b[0m \u001b[0mValueError\u001b[0m\u001b[0;34m:\u001b[0m\u001b[0;34m\u001b[0m\u001b[0m\n",
      "\u001b[0;32m/Users/petersinka/anaconda/lib/python3.5/site-packages/pandas/indexes/base.py\u001b[0m in \u001b[0;36m_searchsorted_monotonic\u001b[0;34m(self, label, side)\u001b[0m\n\u001b[1;32m   2875\u001b[0m \u001b[0;34m\u001b[0m\u001b[0m\n\u001b[0;32m-> 2876\u001b[0;31m         \u001b[0;32mraise\u001b[0m \u001b[0mValueError\u001b[0m\u001b[0;34m(\u001b[0m\u001b[0;34m'index must be monotonic increasing or decreasing'\u001b[0m\u001b[0;34m)\u001b[0m\u001b[0;34m\u001b[0m\u001b[0m\n\u001b[0m\u001b[1;32m   2877\u001b[0m \u001b[0;34m\u001b[0m\u001b[0m\n",
      "\u001b[0;31mValueError\u001b[0m: index must be monotonic increasing or decreasing",
      "\nDuring handling of the above exception, another exception occurred:\n",
      "\u001b[0;31mKeyError\u001b[0m                                  Traceback (most recent call last)",
      "\u001b[0;32m<ipython-input-110-2201fc50194f>\u001b[0m in \u001b[0;36m<module>\u001b[0;34m()\u001b[0m\n\u001b[0;32m----> 1\u001b[0;31m \u001b[0melo_df\u001b[0m\u001b[0;34m[\u001b[0m\u001b[0mdatetime\u001b[0m\u001b[0;34m(\u001b[0m\u001b[0;36m2015\u001b[0m\u001b[0;34m,\u001b[0m\u001b[0;36m10\u001b[0m\u001b[0;34m,\u001b[0m\u001b[0;36m1\u001b[0m\u001b[0;34m)\u001b[0m\u001b[0;34m:\u001b[0m\u001b[0mdatetime\u001b[0m\u001b[0;34m(\u001b[0m\u001b[0;36m2015\u001b[0m\u001b[0;34m,\u001b[0m\u001b[0;36m12\u001b[0m\u001b[0;34m,\u001b[0m\u001b[0;36m31\u001b[0m\u001b[0;34m)\u001b[0m\u001b[0;34m]\u001b[0m\u001b[0;34m\u001b[0m\u001b[0m\n\u001b[0m",
      "\u001b[0;32m/Users/petersinka/anaconda/lib/python3.5/site-packages/pandas/core/frame.py\u001b[0m in \u001b[0;36m__getitem__\u001b[0;34m(self, key)\u001b[0m\n\u001b[1;32m   1983\u001b[0m \u001b[0;34m\u001b[0m\u001b[0m\n\u001b[1;32m   1984\u001b[0m         \u001b[0;31m# see if we can slice the rows\u001b[0m\u001b[0;34m\u001b[0m\u001b[0;34m\u001b[0m\u001b[0m\n\u001b[0;32m-> 1985\u001b[0;31m         \u001b[0mindexer\u001b[0m \u001b[0;34m=\u001b[0m \u001b[0mconvert_to_index_sliceable\u001b[0m\u001b[0;34m(\u001b[0m\u001b[0mself\u001b[0m\u001b[0;34m,\u001b[0m \u001b[0mkey\u001b[0m\u001b[0;34m)\u001b[0m\u001b[0;34m\u001b[0m\u001b[0m\n\u001b[0m\u001b[1;32m   1986\u001b[0m         \u001b[0;32mif\u001b[0m \u001b[0mindexer\u001b[0m \u001b[0;32mis\u001b[0m \u001b[0;32mnot\u001b[0m \u001b[0;32mNone\u001b[0m\u001b[0;34m:\u001b[0m\u001b[0;34m\u001b[0m\u001b[0m\n\u001b[1;32m   1987\u001b[0m             \u001b[0;32mreturn\u001b[0m \u001b[0mself\u001b[0m\u001b[0;34m.\u001b[0m\u001b[0m_getitem_slice\u001b[0m\u001b[0;34m(\u001b[0m\u001b[0mindexer\u001b[0m\u001b[0;34m)\u001b[0m\u001b[0;34m\u001b[0m\u001b[0m\n",
      "\u001b[0;32m/Users/petersinka/anaconda/lib/python3.5/site-packages/pandas/core/indexing.py\u001b[0m in \u001b[0;36mconvert_to_index_sliceable\u001b[0;34m(obj, key)\u001b[0m\n\u001b[1;32m   1756\u001b[0m     \u001b[0midx\u001b[0m \u001b[0;34m=\u001b[0m \u001b[0mobj\u001b[0m\u001b[0;34m.\u001b[0m\u001b[0mindex\u001b[0m\u001b[0;34m\u001b[0m\u001b[0m\n\u001b[1;32m   1757\u001b[0m     \u001b[0;32mif\u001b[0m \u001b[0misinstance\u001b[0m\u001b[0;34m(\u001b[0m\u001b[0mkey\u001b[0m\u001b[0;34m,\u001b[0m \u001b[0mslice\u001b[0m\u001b[0;34m)\u001b[0m\u001b[0;34m:\u001b[0m\u001b[0;34m\u001b[0m\u001b[0m\n\u001b[0;32m-> 1758\u001b[0;31m         \u001b[0;32mreturn\u001b[0m \u001b[0midx\u001b[0m\u001b[0;34m.\u001b[0m\u001b[0m_convert_slice_indexer\u001b[0m\u001b[0;34m(\u001b[0m\u001b[0mkey\u001b[0m\u001b[0;34m,\u001b[0m \u001b[0mkind\u001b[0m\u001b[0;34m=\u001b[0m\u001b[0;34m'getitem'\u001b[0m\u001b[0;34m)\u001b[0m\u001b[0;34m\u001b[0m\u001b[0m\n\u001b[0m\u001b[1;32m   1759\u001b[0m \u001b[0;34m\u001b[0m\u001b[0m\n\u001b[1;32m   1760\u001b[0m     \u001b[0;32melif\u001b[0m \u001b[0misinstance\u001b[0m\u001b[0;34m(\u001b[0m\u001b[0mkey\u001b[0m\u001b[0;34m,\u001b[0m \u001b[0mcompat\u001b[0m\u001b[0;34m.\u001b[0m\u001b[0mstring_types\u001b[0m\u001b[0;34m)\u001b[0m\u001b[0;34m:\u001b[0m\u001b[0;34m\u001b[0m\u001b[0m\n",
      "\u001b[0;32m/Users/petersinka/anaconda/lib/python3.5/site-packages/pandas/indexes/base.py\u001b[0m in \u001b[0;36m_convert_slice_indexer\u001b[0;34m(self, key, kind)\u001b[0m\n\u001b[1;32m   1077\u001b[0m         \u001b[0;32melse\u001b[0m\u001b[0;34m:\u001b[0m\u001b[0;34m\u001b[0m\u001b[0m\n\u001b[1;32m   1078\u001b[0m             \u001b[0;32mtry\u001b[0m\u001b[0;34m:\u001b[0m\u001b[0;34m\u001b[0m\u001b[0m\n\u001b[0;32m-> 1079\u001b[0;31m                 \u001b[0mindexer\u001b[0m \u001b[0;34m=\u001b[0m \u001b[0mself\u001b[0m\u001b[0;34m.\u001b[0m\u001b[0mslice_indexer\u001b[0m\u001b[0;34m(\u001b[0m\u001b[0mstart\u001b[0m\u001b[0;34m,\u001b[0m \u001b[0mstop\u001b[0m\u001b[0;34m,\u001b[0m \u001b[0mstep\u001b[0m\u001b[0;34m,\u001b[0m \u001b[0mkind\u001b[0m\u001b[0;34m=\u001b[0m\u001b[0mkind\u001b[0m\u001b[0;34m)\u001b[0m\u001b[0;34m\u001b[0m\u001b[0m\n\u001b[0m\u001b[1;32m   1080\u001b[0m             \u001b[0;32mexcept\u001b[0m \u001b[0mException\u001b[0m\u001b[0;34m:\u001b[0m\u001b[0;34m\u001b[0m\u001b[0m\n\u001b[1;32m   1081\u001b[0m                 \u001b[0;32mif\u001b[0m \u001b[0mis_index_slice\u001b[0m\u001b[0;34m:\u001b[0m\u001b[0;34m\u001b[0m\u001b[0m\n",
      "\u001b[0;32m/Users/petersinka/anaconda/lib/python3.5/site-packages/pandas/tseries/index.py\u001b[0m in \u001b[0;36mslice_indexer\u001b[0;34m(self, start, end, step, kind)\u001b[0m\n\u001b[1;32m   1509\u001b[0m \u001b[0;34m\u001b[0m\u001b[0m\n\u001b[1;32m   1510\u001b[0m         \u001b[0;32mtry\u001b[0m\u001b[0;34m:\u001b[0m\u001b[0;34m\u001b[0m\u001b[0m\n\u001b[0;32m-> 1511\u001b[0;31m             \u001b[0;32mreturn\u001b[0m \u001b[0mIndex\u001b[0m\u001b[0;34m.\u001b[0m\u001b[0mslice_indexer\u001b[0m\u001b[0;34m(\u001b[0m\u001b[0mself\u001b[0m\u001b[0;34m,\u001b[0m \u001b[0mstart\u001b[0m\u001b[0;34m,\u001b[0m \u001b[0mend\u001b[0m\u001b[0;34m,\u001b[0m \u001b[0mstep\u001b[0m\u001b[0;34m,\u001b[0m \u001b[0mkind\u001b[0m\u001b[0;34m=\u001b[0m\u001b[0mkind\u001b[0m\u001b[0;34m)\u001b[0m\u001b[0;34m\u001b[0m\u001b[0m\n\u001b[0m\u001b[1;32m   1512\u001b[0m         \u001b[0;32mexcept\u001b[0m \u001b[0mKeyError\u001b[0m\u001b[0;34m:\u001b[0m\u001b[0;34m\u001b[0m\u001b[0m\n\u001b[1;32m   1513\u001b[0m             \u001b[0;31m# For historical reasons DatetimeIndex by default supports\u001b[0m\u001b[0;34m\u001b[0m\u001b[0;34m\u001b[0m\u001b[0m\n",
      "\u001b[0;32m/Users/petersinka/anaconda/lib/python3.5/site-packages/pandas/indexes/base.py\u001b[0m in \u001b[0;36mslice_indexer\u001b[0;34m(self, start, end, step, kind)\u001b[0m\n\u001b[1;32m   2783\u001b[0m         \"\"\"\n\u001b[1;32m   2784\u001b[0m         start_slice, end_slice = self.slice_locs(start, end, step=step,\n\u001b[0;32m-> 2785\u001b[0;31m                                                  kind=kind)\n\u001b[0m\u001b[1;32m   2786\u001b[0m \u001b[0;34m\u001b[0m\u001b[0m\n\u001b[1;32m   2787\u001b[0m         \u001b[0;31m# return a slice\u001b[0m\u001b[0;34m\u001b[0m\u001b[0;34m\u001b[0m\u001b[0m\n",
      "\u001b[0;32m/Users/petersinka/anaconda/lib/python3.5/site-packages/pandas/indexes/base.py\u001b[0m in \u001b[0;36mslice_locs\u001b[0;34m(self, start, end, step, kind)\u001b[0m\n\u001b[1;32m   2962\u001b[0m         \u001b[0mstart_slice\u001b[0m \u001b[0;34m=\u001b[0m \u001b[0;32mNone\u001b[0m\u001b[0;34m\u001b[0m\u001b[0m\n\u001b[1;32m   2963\u001b[0m         \u001b[0;32mif\u001b[0m \u001b[0mstart\u001b[0m \u001b[0;32mis\u001b[0m \u001b[0;32mnot\u001b[0m \u001b[0;32mNone\u001b[0m\u001b[0;34m:\u001b[0m\u001b[0;34m\u001b[0m\u001b[0m\n\u001b[0;32m-> 2964\u001b[0;31m             \u001b[0mstart_slice\u001b[0m \u001b[0;34m=\u001b[0m \u001b[0mself\u001b[0m\u001b[0;34m.\u001b[0m\u001b[0mget_slice_bound\u001b[0m\u001b[0;34m(\u001b[0m\u001b[0mstart\u001b[0m\u001b[0;34m,\u001b[0m \u001b[0;34m'left'\u001b[0m\u001b[0;34m,\u001b[0m \u001b[0mkind\u001b[0m\u001b[0;34m)\u001b[0m\u001b[0;34m\u001b[0m\u001b[0m\n\u001b[0m\u001b[1;32m   2965\u001b[0m         \u001b[0;32mif\u001b[0m \u001b[0mstart_slice\u001b[0m \u001b[0;32mis\u001b[0m \u001b[0;32mNone\u001b[0m\u001b[0;34m:\u001b[0m\u001b[0;34m\u001b[0m\u001b[0m\n\u001b[1;32m   2966\u001b[0m             \u001b[0mstart_slice\u001b[0m \u001b[0;34m=\u001b[0m \u001b[0;36m0\u001b[0m\u001b[0;34m\u001b[0m\u001b[0m\n",
      "\u001b[0;32m/Users/petersinka/anaconda/lib/python3.5/site-packages/pandas/indexes/base.py\u001b[0m in \u001b[0;36mget_slice_bound\u001b[0;34m(self, label, side, kind)\u001b[0m\n\u001b[1;32m   2911\u001b[0m             \u001b[0;32mexcept\u001b[0m \u001b[0mValueError\u001b[0m\u001b[0;34m:\u001b[0m\u001b[0;34m\u001b[0m\u001b[0m\n\u001b[1;32m   2912\u001b[0m                 \u001b[0;31m# raise the original KeyError\u001b[0m\u001b[0;34m\u001b[0m\u001b[0;34m\u001b[0m\u001b[0m\n\u001b[0;32m-> 2913\u001b[0;31m                 \u001b[0;32mraise\u001b[0m \u001b[0merr\u001b[0m\u001b[0;34m\u001b[0m\u001b[0m\n\u001b[0m\u001b[1;32m   2914\u001b[0m \u001b[0;34m\u001b[0m\u001b[0m\n\u001b[1;32m   2915\u001b[0m         \u001b[0;32mif\u001b[0m \u001b[0misinstance\u001b[0m\u001b[0;34m(\u001b[0m\u001b[0mslc\u001b[0m\u001b[0;34m,\u001b[0m \u001b[0mnp\u001b[0m\u001b[0;34m.\u001b[0m\u001b[0mndarray\u001b[0m\u001b[0;34m)\u001b[0m\u001b[0;34m:\u001b[0m\u001b[0;34m\u001b[0m\u001b[0m\n",
      "\u001b[0;32m/Users/petersinka/anaconda/lib/python3.5/site-packages/pandas/indexes/base.py\u001b[0m in \u001b[0;36mget_slice_bound\u001b[0;34m(self, label, side, kind)\u001b[0m\n\u001b[1;32m   2905\u001b[0m         \u001b[0;31m# we need to look up the label\u001b[0m\u001b[0;34m\u001b[0m\u001b[0;34m\u001b[0m\u001b[0m\n\u001b[1;32m   2906\u001b[0m         \u001b[0;32mtry\u001b[0m\u001b[0;34m:\u001b[0m\u001b[0;34m\u001b[0m\u001b[0m\n\u001b[0;32m-> 2907\u001b[0;31m             \u001b[0mslc\u001b[0m \u001b[0;34m=\u001b[0m \u001b[0mself\u001b[0m\u001b[0;34m.\u001b[0m\u001b[0mget_loc\u001b[0m\u001b[0;34m(\u001b[0m\u001b[0mlabel\u001b[0m\u001b[0;34m)\u001b[0m\u001b[0;34m\u001b[0m\u001b[0m\n\u001b[0m\u001b[1;32m   2908\u001b[0m         \u001b[0;32mexcept\u001b[0m \u001b[0mKeyError\u001b[0m \u001b[0;32mas\u001b[0m \u001b[0merr\u001b[0m\u001b[0;34m:\u001b[0m\u001b[0;34m\u001b[0m\u001b[0m\n\u001b[1;32m   2909\u001b[0m             \u001b[0;32mtry\u001b[0m\u001b[0;34m:\u001b[0m\u001b[0;34m\u001b[0m\u001b[0m\n",
      "\u001b[0;32m/Users/petersinka/anaconda/lib/python3.5/site-packages/pandas/tseries/index.py\u001b[0m in \u001b[0;36mget_loc\u001b[0;34m(self, key, method, tolerance)\u001b[0m\n\u001b[1;32m   1420\u001b[0m             \u001b[0;31m# needed to localize naive datetimes\u001b[0m\u001b[0;34m\u001b[0m\u001b[0;34m\u001b[0m\u001b[0m\n\u001b[1;32m   1421\u001b[0m             \u001b[0mkey\u001b[0m \u001b[0;34m=\u001b[0m \u001b[0mTimestamp\u001b[0m\u001b[0;34m(\u001b[0m\u001b[0mkey\u001b[0m\u001b[0;34m,\u001b[0m \u001b[0mtz\u001b[0m\u001b[0;34m=\u001b[0m\u001b[0mself\u001b[0m\u001b[0;34m.\u001b[0m\u001b[0mtz\u001b[0m\u001b[0;34m)\u001b[0m\u001b[0;34m\u001b[0m\u001b[0m\n\u001b[0;32m-> 1422\u001b[0;31m             \u001b[0;32mreturn\u001b[0m \u001b[0mIndex\u001b[0m\u001b[0;34m.\u001b[0m\u001b[0mget_loc\u001b[0m\u001b[0;34m(\u001b[0m\u001b[0mself\u001b[0m\u001b[0;34m,\u001b[0m \u001b[0mkey\u001b[0m\u001b[0;34m,\u001b[0m \u001b[0mmethod\u001b[0m\u001b[0;34m,\u001b[0m \u001b[0mtolerance\u001b[0m\u001b[0;34m)\u001b[0m\u001b[0;34m\u001b[0m\u001b[0m\n\u001b[0m\u001b[1;32m   1423\u001b[0m \u001b[0;34m\u001b[0m\u001b[0m\n\u001b[1;32m   1424\u001b[0m         \u001b[0;32mif\u001b[0m \u001b[0misinstance\u001b[0m\u001b[0;34m(\u001b[0m\u001b[0mkey\u001b[0m\u001b[0;34m,\u001b[0m \u001b[0mtime\u001b[0m\u001b[0;34m)\u001b[0m\u001b[0;34m:\u001b[0m\u001b[0;34m\u001b[0m\u001b[0m\n",
      "\u001b[0;32m/Users/petersinka/anaconda/lib/python3.5/site-packages/pandas/indexes/base.py\u001b[0m in \u001b[0;36mget_loc\u001b[0;34m(self, key, method, tolerance)\u001b[0m\n\u001b[1;32m   1945\u001b[0m                 \u001b[0;32mreturn\u001b[0m \u001b[0mself\u001b[0m\u001b[0;34m.\u001b[0m\u001b[0m_engine\u001b[0m\u001b[0;34m.\u001b[0m\u001b[0mget_loc\u001b[0m\u001b[0;34m(\u001b[0m\u001b[0mkey\u001b[0m\u001b[0;34m)\u001b[0m\u001b[0;34m\u001b[0m\u001b[0m\n\u001b[1;32m   1946\u001b[0m             \u001b[0;32mexcept\u001b[0m \u001b[0mKeyError\u001b[0m\u001b[0;34m:\u001b[0m\u001b[0;34m\u001b[0m\u001b[0m\n\u001b[0;32m-> 1947\u001b[0;31m                 \u001b[0;32mreturn\u001b[0m \u001b[0mself\u001b[0m\u001b[0;34m.\u001b[0m\u001b[0m_engine\u001b[0m\u001b[0;34m.\u001b[0m\u001b[0mget_loc\u001b[0m\u001b[0;34m(\u001b[0m\u001b[0mself\u001b[0m\u001b[0;34m.\u001b[0m\u001b[0m_maybe_cast_indexer\u001b[0m\u001b[0;34m(\u001b[0m\u001b[0mkey\u001b[0m\u001b[0;34m)\u001b[0m\u001b[0;34m)\u001b[0m\u001b[0;34m\u001b[0m\u001b[0m\n\u001b[0m\u001b[1;32m   1948\u001b[0m \u001b[0;34m\u001b[0m\u001b[0m\n\u001b[1;32m   1949\u001b[0m         \u001b[0mindexer\u001b[0m \u001b[0;34m=\u001b[0m \u001b[0mself\u001b[0m\u001b[0;34m.\u001b[0m\u001b[0mget_indexer\u001b[0m\u001b[0;34m(\u001b[0m\u001b[0;34m[\u001b[0m\u001b[0mkey\u001b[0m\u001b[0;34m]\u001b[0m\u001b[0;34m,\u001b[0m \u001b[0mmethod\u001b[0m\u001b[0;34m=\u001b[0m\u001b[0mmethod\u001b[0m\u001b[0;34m,\u001b[0m \u001b[0mtolerance\u001b[0m\u001b[0;34m=\u001b[0m\u001b[0mtolerance\u001b[0m\u001b[0;34m)\u001b[0m\u001b[0;34m\u001b[0m\u001b[0m\n",
      "\u001b[0;32mpandas/index.pyx\u001b[0m in \u001b[0;36mpandas.index.DatetimeEngine.get_loc (pandas/index.c:11140)\u001b[0;34m()\u001b[0m\n",
      "\u001b[0;32mpandas/index.pyx\u001b[0m in \u001b[0;36mpandas.index.DatetimeEngine.get_loc (pandas/index.c:10774)\u001b[0;34m()\u001b[0m\n",
      "\u001b[0;32mpandas/index.pyx\u001b[0m in \u001b[0;36mpandas.index.IndexEngine._get_loc_duplicates (pandas/index.c:4385)\u001b[0;34m()\u001b[0m\n",
      "\u001b[0;32mpandas/index.pyx\u001b[0m in \u001b[0;36mpandas.index.Int64Engine._maybe_get_bool_indexer (pandas/index.c:8079)\u001b[0;34m()\u001b[0m\n",
      "\u001b[0;31mKeyError\u001b[0m: 1443657600000000000"
     ]
    }
   ],
   "source": [
    "elo_df[datetime(2015,10,1):datetime(2015,12,31)]"
   ]
  },
  {
   "cell_type": "code",
   "execution_count": null,
   "metadata": {
    "collapsed": true
   },
   "outputs": [],
   "source": []
  }
 ],
 "metadata": {
  "anaconda-cloud": {},
  "kernelspec": {
   "display_name": "Python [conda root]",
   "language": "python",
   "name": "conda-root-py"
  },
  "language_info": {
   "codemirror_mode": {
    "name": "ipython",
    "version": 3
   },
   "file_extension": ".py",
   "mimetype": "text/x-python",
   "name": "python",
   "nbconvert_exporter": "python",
   "pygments_lexer": "ipython3",
   "version": "3.5.2"
  }
 },
 "nbformat": 4,
 "nbformat_minor": 1
}
