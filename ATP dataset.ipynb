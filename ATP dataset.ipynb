{
 "cells": [
  {
   "cell_type": "code",
   "execution_count": 153,
   "metadata": {
    "collapsed": false
   },
   "outputs": [
    {
     "name": "stderr",
     "output_type": "stream",
     "text": [
      "/Users/petersinka/anaconda/lib/python3.5/site-packages/IPython/core/interactiveshell.py:2717: DtypeWarning: Columns (3,5,6,7,8,9,12,14,15,16,17,18,19,22,24,25,26,28,30,31,32,33,34,35,36,37,38,39,40,41,42,43,44,45,46,47,48) have mixed types. Specify dtype option on import or set low_memory=False.\n",
      "  interactivity=interactivity, compiler=compiler, result=result)\n"
     ]
    }
   ],
   "source": [
    "import pandas as pd\n",
    "df = pd.read_csv('ATP.csv')"
   ]
  },
  {
   "cell_type": "code",
   "execution_count": 154,
   "metadata": {
    "collapsed": false,
    "scrolled": true
   },
   "outputs": [],
   "source": [
    "df = df[df['tourney_date'] != 'tourney_date']\n",
    "df['winner_id'] = pd.to_numeric(df['winner_id'])\n",
    "df['loser_id'] = pd.to_numeric(df['loser_id'])"
   ]
  },
  {
   "cell_type": "markdown",
   "metadata": {},
   "source": [
    "## Most majors by players"
   ]
  },
  {
   "cell_type": "code",
   "execution_count": 155,
   "metadata": {
    "collapsed": false,
    "scrolled": true
   },
   "outputs": [
    {
     "data": {
      "text/plain": [
       "winner_name\n",
       "Roger Federer            18\n",
       "Rafael Nadal             14\n",
       "Pete Sampras             14\n",
       "Novak Djokovic           12\n",
       "Bjorn Borg               11\n",
       "Ivan Lendl                8\n",
       "Andre Agassi              8\n",
       "Jimmy Connors             8\n",
       "Mats Wilander             7\n",
       "John Mcenroe              7\n",
       "Stefan Edberg             6\n",
       "Boris Becker              6\n",
       "John Newcombe             5\n",
       "Rod Laver                 5\n",
       "Jim Courier               4\n",
       "Ken Rosewall              4\n",
       "Guillermo Vilas           4\n",
       "Gustavo Kuerten           3\n",
       "Jan Kodes                 3\n",
       "Arthur Ashe               3\n",
       "Andy Murray               3\n",
       "Stanislas Wawrinka        3\n",
       "Patrick Rafter            2\n",
       "Lleyton Hewitt            2\n",
       "Sergi Bruguera            2\n",
       "Stan Smith                2\n",
       "Marat Safin               2\n",
       "Yevgeny Kafelnikov        2\n",
       "Johan Kriek               2\n",
       "Ilie Nastase              2\n",
       "Albert Costa              1\n",
       "Richard Krajicek          1\n",
       "Yannick Noah              1\n",
       "Thomas Muster             1\n",
       "Thomas Johansson          1\n",
       "Andres Gimeno             1\n",
       "Andres Gomez              1\n",
       "Andy Roddick              1\n",
       "Bill Bowrey               1\n",
       "Roscoe Tanner             1\n",
       "Brian Teacher             1\n",
       "Carlos Moya               1\n",
       "Gaston Gaudio             1\n",
       "Manuel Orantes            1\n",
       "Petr Korda                1\n",
       "Goran Ivanisevic          1\n",
       "Pat Cash                  1\n",
       "Michael Stich             1\n",
       "Michael Chang             1\n",
       "Juan Carlos Ferrero       1\n",
       "Mark Edmondson            1\n",
       "Marin Cilic               1\n",
       "Juan Martin Del Potro     1\n",
       "Adriano Panatta           1\n",
       "Name: tourney_id, dtype: int64"
      ]
     },
     "execution_count": 155,
     "metadata": {},
     "output_type": "execute_result"
    }
   ],
   "source": [
    "# Most majors\n",
    "gs_winner_df = df[(df['tourney_level'] == 'G') & (df['round'] == 'F')]\n",
    "grouped = gs_winner_df.groupby('winner_name').count().sort_values('winner_id', ascending= False).ix[:,0]\n",
    "grouped"
   ]
  },
  {
   "cell_type": "markdown",
   "metadata": {},
   "source": [
    "## Create initial player ELO table"
   ]
  },
  {
   "cell_type": "code",
   "execution_count": 156,
   "metadata": {
    "collapsed": false
   },
   "outputs": [],
   "source": [
    "# List of all players in the data\n",
    "winner_names = df[['winner_name','winner_id']].drop_duplicates().set_index('winner_id')\n",
    "loser_names = df[['loser_name','loser_id']].drop_duplicates().rename(index=str, columns={\"loser_name\": \"winner_name\", \"loser_id\": \"winner_id\"}).set_index('winner_id')"
   ]
  },
  {
   "cell_type": "code",
   "execution_count": 157,
   "metadata": {
    "collapsed": false
   },
   "outputs": [],
   "source": [
    "# List of all players in the data\n",
    "winner_names = df[['winner_name','winner_id']].drop_duplicates()\n",
    "loser_names = df[['loser_name','loser_id']].drop_duplicates().rename(index=str, columns={\"loser_name\": \"winner_name\", \"loser_id\": \"winner_id\"})\n",
    "\n",
    "player_unique_list = pd.concat([winner_names, loser_names])\n",
    "\n",
    "player_unique_list['winner_id'] = pd.to_numeric(player_unique_list['winner_id'])\n",
    "\n",
    "player_unique_list = player_unique_list.drop_duplicates(['winner_name','winner_id']).set_index('winner_id')\n",
    "\n",
    "player_unique_list['elo_score'] = 1000"
   ]
  },
  {
   "cell_type": "code",
   "execution_count": 158,
   "metadata": {
    "collapsed": false,
    "scrolled": true
   },
   "outputs": [
    {
     "data": {
      "text/html": [
       "<div>\n",
       "<table border=\"1\" class=\"dataframe\">\n",
       "  <thead>\n",
       "    <tr style=\"text-align: right;\">\n",
       "      <th></th>\n",
       "      <th>winner_name</th>\n",
       "      <th>elo_score</th>\n",
       "    </tr>\n",
       "    <tr>\n",
       "      <th>winner_id</th>\n",
       "      <th></th>\n",
       "      <th></th>\n",
       "    </tr>\n",
       "  </thead>\n",
       "  <tbody>\n",
       "    <tr>\n",
       "      <th>103819</th>\n",
       "      <td>Roger Federer</td>\n",
       "      <td>1000</td>\n",
       "    </tr>\n",
       "  </tbody>\n",
       "</table>\n",
       "</div>"
      ],
      "text/plain": [
       "             winner_name  elo_score\n",
       "winner_id                          \n",
       "103819     Roger Federer       1000"
      ]
     },
     "execution_count": 158,
     "metadata": {},
     "output_type": "execute_result"
    }
   ],
   "source": [
    "player_unique_list[player_unique_list['winner_name'] == 'Roger Federer']"
   ]
  },
  {
   "cell_type": "code",
   "execution_count": 173,
   "metadata": {
    "collapsed": false
   },
   "outputs": [
    {
     "data": {
      "text/html": [
       "<div>\n",
       "<table border=\"1\" class=\"dataframe\">\n",
       "  <thead>\n",
       "    <tr style=\"text-align: right;\">\n",
       "      <th></th>\n",
       "      <th>winner_name</th>\n",
       "      <th>elo_score</th>\n",
       "    </tr>\n",
       "    <tr>\n",
       "      <th>winner_id</th>\n",
       "      <th></th>\n",
       "      <th></th>\n",
       "    </tr>\n",
       "  </thead>\n",
       "  <tbody>\n",
       "    <tr>\n",
       "      <th>104925</th>\n",
       "      <td>Novak Djokovic</td>\n",
       "      <td>1843.185701</td>\n",
       "    </tr>\n",
       "    <tr>\n",
       "      <th>104918</th>\n",
       "      <td>Andy Murray</td>\n",
       "      <td>1838.192303</td>\n",
       "    </tr>\n",
       "    <tr>\n",
       "      <th>103819</th>\n",
       "      <td>Roger Federer</td>\n",
       "      <td>1757.477218</td>\n",
       "    </tr>\n",
       "    <tr>\n",
       "      <th>105223</th>\n",
       "      <td>Juan Martin Del Potro</td>\n",
       "      <td>1654.471527</td>\n",
       "    </tr>\n",
       "    <tr>\n",
       "      <th>104417</th>\n",
       "      <td>Robin Soderling</td>\n",
       "      <td>1650.039471</td>\n",
       "    </tr>\n",
       "    <tr>\n",
       "      <th>104745</th>\n",
       "      <td>Rafael Nadal</td>\n",
       "      <td>1614.944467</td>\n",
       "    </tr>\n",
       "    <tr>\n",
       "      <th>105683</th>\n",
       "      <td>Milos Raonic</td>\n",
       "      <td>1593.922786</td>\n",
       "    </tr>\n",
       "    <tr>\n",
       "      <th>105453</th>\n",
       "      <td>Kei Nishikori</td>\n",
       "      <td>1588.980210</td>\n",
       "    </tr>\n",
       "    <tr>\n",
       "      <th>105777</th>\n",
       "      <td>Grigor Dimitrov</td>\n",
       "      <td>1578.025049</td>\n",
       "    </tr>\n",
       "    <tr>\n",
       "      <th>104527</th>\n",
       "      <td>Stanislas Wawrinka</td>\n",
       "      <td>1564.569594</td>\n",
       "    </tr>\n",
       "    <tr>\n",
       "      <th>104542</th>\n",
       "      <td>Jo Wilfried Tsonga</td>\n",
       "      <td>1537.125094</td>\n",
       "    </tr>\n",
       "    <tr>\n",
       "      <th>100428</th>\n",
       "      <td>Gene Mayer</td>\n",
       "      <td>1533.028140</td>\n",
       "    </tr>\n",
       "    <tr>\n",
       "      <th>102158</th>\n",
       "      <td>Patrick Rafter</td>\n",
       "      <td>1527.277589</td>\n",
       "    </tr>\n",
       "    <tr>\n",
       "      <th>104607</th>\n",
       "      <td>Tomas Berdych</td>\n",
       "      <td>1505.081453</td>\n",
       "    </tr>\n",
       "    <tr>\n",
       "      <th>100074</th>\n",
       "      <td>Arthur Ashe</td>\n",
       "      <td>1504.916630</td>\n",
       "    </tr>\n",
       "    <tr>\n",
       "      <th>104792</th>\n",
       "      <td>Gael Monfils</td>\n",
       "      <td>1498.105959</td>\n",
       "    </tr>\n",
       "    <tr>\n",
       "      <th>100309</th>\n",
       "      <td>Raul Ramirez</td>\n",
       "      <td>1493.880117</td>\n",
       "    </tr>\n",
       "    <tr>\n",
       "      <th>105227</th>\n",
       "      <td>Marin Cilic</td>\n",
       "      <td>1485.465422</td>\n",
       "    </tr>\n",
       "    <tr>\n",
       "      <th>105676</th>\n",
       "      <td>David Goffin</td>\n",
       "      <td>1483.891962</td>\n",
       "    </tr>\n",
       "    <tr>\n",
       "      <th>101222</th>\n",
       "      <td>Stefan Edberg</td>\n",
       "      <td>1483.269116</td>\n",
       "    </tr>\n",
       "    <tr>\n",
       "      <th>106401</th>\n",
       "      <td>Nick Kyrgios</td>\n",
       "      <td>1471.510206</td>\n",
       "    </tr>\n",
       "    <tr>\n",
       "      <th>106058</th>\n",
       "      <td>Jack Sock</td>\n",
       "      <td>1469.653402</td>\n",
       "    </tr>\n",
       "    <tr>\n",
       "      <th>101948</th>\n",
       "      <td>Pete Sampras</td>\n",
       "      <td>1460.397830</td>\n",
       "    </tr>\n",
       "    <tr>\n",
       "      <th>105138</th>\n",
       "      <td>Roberto Bautista Agut</td>\n",
       "      <td>1458.463491</td>\n",
       "    </tr>\n",
       "    <tr>\n",
       "      <th>104180</th>\n",
       "      <td>Gilles Muller</td>\n",
       "      <td>1435.026237</td>\n",
       "    </tr>\n",
       "    <tr>\n",
       "      <th>100029</th>\n",
       "      <td>Rod Laver</td>\n",
       "      <td>1426.636400</td>\n",
       "    </tr>\n",
       "    <tr>\n",
       "      <th>106233</th>\n",
       "      <td>Dominic Thiem</td>\n",
       "      <td>1420.053969</td>\n",
       "    </tr>\n",
       "    <tr>\n",
       "      <th>104053</th>\n",
       "      <td>Andy Roddick</td>\n",
       "      <td>1419.686536</td>\n",
       "    </tr>\n",
       "    <tr>\n",
       "      <th>102765</th>\n",
       "      <td>Nicolas Escude</td>\n",
       "      <td>1419.507024</td>\n",
       "    </tr>\n",
       "    <tr>\n",
       "      <th>101414</th>\n",
       "      <td>Boris Becker</td>\n",
       "      <td>1416.892864</td>\n",
       "    </tr>\n",
       "    <tr>\n",
       "      <th>...</th>\n",
       "      <td>...</td>\n",
       "      <td>...</td>\n",
       "    </tr>\n",
       "    <tr>\n",
       "      <th>101088</th>\n",
       "      <td>Larry Scott</td>\n",
       "      <td>817.154930</td>\n",
       "    </tr>\n",
       "    <tr>\n",
       "      <th>104323</th>\n",
       "      <td>Photos Kallias</td>\n",
       "      <td>815.678759</td>\n",
       "    </tr>\n",
       "    <tr>\n",
       "      <th>108820</th>\n",
       "      <td>Ganiyu Adenekan</td>\n",
       "      <td>815.562902</td>\n",
       "    </tr>\n",
       "    <tr>\n",
       "      <th>100096</th>\n",
       "      <td>Peter Burwash</td>\n",
       "      <td>814.341927</td>\n",
       "    </tr>\n",
       "    <tr>\n",
       "      <th>110199</th>\n",
       "      <td>Kevin Menton</td>\n",
       "      <td>813.946331</td>\n",
       "    </tr>\n",
       "    <tr>\n",
       "      <th>106620</th>\n",
       "      <td>Bertrand Lacombe</td>\n",
       "      <td>813.561511</td>\n",
       "    </tr>\n",
       "    <tr>\n",
       "      <th>108740</th>\n",
       "      <td>Cyril Jacobe</td>\n",
       "      <td>809.492099</td>\n",
       "    </tr>\n",
       "    <tr>\n",
       "      <th>107518</th>\n",
       "      <td>Kiyoski Tanabe</td>\n",
       "      <td>803.666407</td>\n",
       "    </tr>\n",
       "    <tr>\n",
       "      <th>102971</th>\n",
       "      <td>Christophe Bosio</td>\n",
       "      <td>801.900537</td>\n",
       "    </tr>\n",
       "    <tr>\n",
       "      <th>108883</th>\n",
       "      <td>Kuen Yiep Ho</td>\n",
       "      <td>801.488173</td>\n",
       "    </tr>\n",
       "    <tr>\n",
       "      <th>108373</th>\n",
       "      <td>Thierno Ly</td>\n",
       "      <td>800.483862</td>\n",
       "    </tr>\n",
       "    <tr>\n",
       "      <th>111073</th>\n",
       "      <td>Sultan Aman Azman</td>\n",
       "      <td>795.747677</td>\n",
       "    </tr>\n",
       "    <tr>\n",
       "      <th>102956</th>\n",
       "      <td>Sultan Khalfan</td>\n",
       "      <td>795.127488</td>\n",
       "    </tr>\n",
       "    <tr>\n",
       "      <th>106996</th>\n",
       "      <td>Felix Ponte</td>\n",
       "      <td>793.258649</td>\n",
       "    </tr>\n",
       "    <tr>\n",
       "      <th>100405</th>\n",
       "      <td>Fernando Maynetto</td>\n",
       "      <td>791.366482</td>\n",
       "    </tr>\n",
       "    <tr>\n",
       "      <th>109784</th>\n",
       "      <td>Lance Lumsden</td>\n",
       "      <td>789.058295</td>\n",
       "    </tr>\n",
       "    <tr>\n",
       "      <th>125690</th>\n",
       "      <td>Jean Neuman</td>\n",
       "      <td>784.826533</td>\n",
       "    </tr>\n",
       "    <tr>\n",
       "      <th>100195</th>\n",
       "      <td>Nicolas Kelaidis</td>\n",
       "      <td>777.251511</td>\n",
       "    </tr>\n",
       "    <tr>\n",
       "      <th>100049</th>\n",
       "      <td>Jim Mcmanus</td>\n",
       "      <td>770.570797</td>\n",
       "    </tr>\n",
       "    <tr>\n",
       "      <th>110783</th>\n",
       "      <td>Yassine Amier</td>\n",
       "      <td>770.054828</td>\n",
       "    </tr>\n",
       "    <tr>\n",
       "      <th>108875</th>\n",
       "      <td>Abou Berthe</td>\n",
       "      <td>767.819985</td>\n",
       "    </tr>\n",
       "    <tr>\n",
       "      <th>108618</th>\n",
       "      <td>Karim Alayli</td>\n",
       "      <td>761.233700</td>\n",
       "    </tr>\n",
       "    <tr>\n",
       "      <th>109763</th>\n",
       "      <td>Eduardo Zuleta</td>\n",
       "      <td>757.441596</td>\n",
       "    </tr>\n",
       "    <tr>\n",
       "      <th>102832</th>\n",
       "      <td>Andrian Raturandang</td>\n",
       "      <td>748.972569</td>\n",
       "    </tr>\n",
       "    <tr>\n",
       "      <th>107117</th>\n",
       "      <td>Gordon Asciak</td>\n",
       "      <td>740.585783</td>\n",
       "    </tr>\n",
       "    <tr>\n",
       "      <th>108552</th>\n",
       "      <td>Yannos Hadjigeorgiou</td>\n",
       "      <td>731.780098</td>\n",
       "    </tr>\n",
       "    <tr>\n",
       "      <th>199999</th>\n",
       "      <td>U Unknown</td>\n",
       "      <td>730.296886</td>\n",
       "    </tr>\n",
       "    <tr>\n",
       "      <th>100107</th>\n",
       "      <td>Robert Rheinberger</td>\n",
       "      <td>726.341352</td>\n",
       "    </tr>\n",
       "    <tr>\n",
       "      <th>106506</th>\n",
       "      <td>Alkis Papamichael</td>\n",
       "      <td>709.963463</td>\n",
       "    </tr>\n",
       "    <tr>\n",
       "      <th>110447</th>\n",
       "      <td>Leo Rolle</td>\n",
       "      <td>702.037237</td>\n",
       "    </tr>\n",
       "  </tbody>\n",
       "</table>\n",
       "<p>5664 rows × 2 columns</p>\n",
       "</div>"
      ],
      "text/plain": [
       "                     winner_name    elo_score\n",
       "winner_id                                    \n",
       "104925            Novak Djokovic  1843.185701\n",
       "104918               Andy Murray  1838.192303\n",
       "103819             Roger Federer  1757.477218\n",
       "105223     Juan Martin Del Potro  1654.471527\n",
       "104417           Robin Soderling  1650.039471\n",
       "104745              Rafael Nadal  1614.944467\n",
       "105683              Milos Raonic  1593.922786\n",
       "105453             Kei Nishikori  1588.980210\n",
       "105777           Grigor Dimitrov  1578.025049\n",
       "104527        Stanislas Wawrinka  1564.569594\n",
       "104542        Jo Wilfried Tsonga  1537.125094\n",
       "100428                Gene Mayer  1533.028140\n",
       "102158            Patrick Rafter  1527.277589\n",
       "104607             Tomas Berdych  1505.081453\n",
       "100074               Arthur Ashe  1504.916630\n",
       "104792              Gael Monfils  1498.105959\n",
       "100309              Raul Ramirez  1493.880117\n",
       "105227               Marin Cilic  1485.465422\n",
       "105676              David Goffin  1483.891962\n",
       "101222             Stefan Edberg  1483.269116\n",
       "106401              Nick Kyrgios  1471.510206\n",
       "106058                 Jack Sock  1469.653402\n",
       "101948              Pete Sampras  1460.397830\n",
       "105138     Roberto Bautista Agut  1458.463491\n",
       "104180             Gilles Muller  1435.026237\n",
       "100029                 Rod Laver  1426.636400\n",
       "106233             Dominic Thiem  1420.053969\n",
       "104053              Andy Roddick  1419.686536\n",
       "102765            Nicolas Escude  1419.507024\n",
       "101414              Boris Becker  1416.892864\n",
       "...                          ...          ...\n",
       "101088               Larry Scott   817.154930\n",
       "104323            Photos Kallias   815.678759\n",
       "108820           Ganiyu Adenekan   815.562902\n",
       "100096             Peter Burwash   814.341927\n",
       "110199              Kevin Menton   813.946331\n",
       "106620          Bertrand Lacombe   813.561511\n",
       "108740              Cyril Jacobe   809.492099\n",
       "107518            Kiyoski Tanabe   803.666407\n",
       "102971          Christophe Bosio   801.900537\n",
       "108883              Kuen Yiep Ho   801.488173\n",
       "108373                Thierno Ly   800.483862\n",
       "111073         Sultan Aman Azman   795.747677\n",
       "102956            Sultan Khalfan   795.127488\n",
       "106996               Felix Ponte   793.258649\n",
       "100405         Fernando Maynetto   791.366482\n",
       "109784             Lance Lumsden   789.058295\n",
       "125690               Jean Neuman   784.826533\n",
       "100195          Nicolas Kelaidis   777.251511\n",
       "100049               Jim Mcmanus   770.570797\n",
       "110783             Yassine Amier   770.054828\n",
       "108875               Abou Berthe   767.819985\n",
       "108618              Karim Alayli   761.233700\n",
       "109763            Eduardo Zuleta   757.441596\n",
       "102832       Andrian Raturandang   748.972569\n",
       "107117             Gordon Asciak   740.585783\n",
       "108552      Yannos Hadjigeorgiou   731.780098\n",
       "199999                 U Unknown   730.296886\n",
       "100107        Robert Rheinberger   726.341352\n",
       "106506         Alkis Papamichael   709.963463\n",
       "110447                 Leo Rolle   702.037237\n",
       "\n",
       "[5664 rows x 2 columns]"
      ]
     },
     "execution_count": 173,
     "metadata": {},
     "output_type": "execute_result"
    }
   ],
   "source": [
    "player_unique_list.sort_values('elo_score', ascending = False)"
   ]
  },
  {
   "cell_type": "markdown",
   "metadata": {},
   "source": [
    "## Create time series from the data"
   ]
  },
  {
   "cell_type": "code",
   "execution_count": 160,
   "metadata": {
    "collapsed": true
   },
   "outputs": [],
   "source": [
    "from dateutil.parser import parse"
   ]
  },
  {
   "cell_type": "code",
   "execution_count": 161,
   "metadata": {
    "collapsed": false
   },
   "outputs": [],
   "source": [
    "# Parse timestamp from tourney date\n",
    "df['timestamp'] = df.loc[:,'tourney_date'].apply(lambda x: parse(str(x)))"
   ]
  },
  {
   "cell_type": "markdown",
   "metadata": {},
   "source": [
    "K-s based on Tourney level:\n",
    "G: major\n",
    "D: Davis Cup\n",
    "M: Major tournament\n",
    "C: Challanger\n",
    "F: Final\n",
    "A: regular tournament"
   ]
  },
  {
   "cell_type": "code",
   "execution_count": 162,
   "metadata": {
    "collapsed": false
   },
   "outputs": [],
   "source": [
    "# Setting timestamp as index\n",
    "df = df.set_index(df['timestamp'])"
   ]
  },
  {
   "cell_type": "code",
   "execution_count": 163,
   "metadata": {
    "collapsed": true
   },
   "outputs": [],
   "source": [
    "columns_needed_for_elo = [\n",
    "    'tourney_id',\n",
    "    'tourney_name',\n",
    "    'draw_size',\n",
    "    'tourney_level',\n",
    "    'winner_id',\n",
    "    'winner_name',\n",
    "    'loser_id',\n",
    "    'loser_name',\n",
    "    'score',\n",
    "    'best_of',\n",
    "    'round'\n",
    "]"
   ]
  },
  {
   "cell_type": "code",
   "execution_count": 164,
   "metadata": {
    "collapsed": true
   },
   "outputs": [],
   "source": [
    "elo_df = df[columns_needed_for_elo]"
   ]
  },
  {
   "cell_type": "markdown",
   "metadata": {},
   "source": [
    "## Calculating score difference to reward straight set wins in ELO."
   ]
  },
  {
   "cell_type": "code",
   "execution_count": 165,
   "metadata": {
    "collapsed": false
   },
   "outputs": [],
   "source": [
    "def score_diff(score, best_of):\n",
    "    if ((len(score.split()) == 3) and (best_of == 5)) or ((len(score.split()) == 2) and (best_of == 3)):\n",
    "        return 1.75\n",
    "    elif (len(score.split()) == 4) and (best_of == 5):\n",
    "        return 1.5\n",
    "    else:\n",
    "        return 1"
   ]
  },
  {
   "cell_type": "code",
   "execution_count": 166,
   "metadata": {
    "collapsed": false
   },
   "outputs": [
    {
     "name": "stderr",
     "output_type": "stream",
     "text": [
      "/Users/petersinka/anaconda/lib/python3.5/site-packages/ipykernel/__main__.py:1: SettingWithCopyWarning: \n",
      "A value is trying to be set on a copy of a slice from a DataFrame.\n",
      "Try using .loc[row_indexer,col_indexer] = value instead\n",
      "\n",
      "See the caveats in the documentation: http://pandas.pydata.org/pandas-docs/stable/indexing.html#indexing-view-versus-copy\n",
      "  if __name__ == '__main__':\n"
     ]
    }
   ],
   "source": [
    "elo_df['score_diff'] = elo_df.apply(lambda x: score_diff(str(x['score']), x['best_of']), axis = 1)"
   ]
  },
  {
   "cell_type": "markdown",
   "metadata": {},
   "source": [
    "## Calculate ELO ratings"
   ]
  },
  {
   "cell_type": "code",
   "execution_count": 167,
   "metadata": {
    "collapsed": false
   },
   "outputs": [],
   "source": [
    "def expected(A, B):\n",
    "    \"\"\"\n",
    "    Calculate expected score of A in a match against B\n",
    "    :param A: Elo rating for player A\n",
    "    :param B: Elo rating for player B\n",
    "    \"\"\"\n",
    "    return 1 / (1 + 10 ** ((B - A) / 400))\n",
    "\n",
    "\n",
    "def elo(old, expected, score, score_diff, k=40):\n",
    "    \"\"\"\n",
    "    Calculate the new Elo rating for a player\n",
    "    :param old: The previous Elo rating\n",
    "    :param exp: The expected score for this match\n",
    "    :param score: The actual score for this match\n",
    "    :param k: The k-factor for Elo (default: 32)\n",
    "    :param score_diff: calculated score diff for result\n",
    "    \"\"\"\n",
    "    return old + k * score_diff * (score - expected)"
   ]
  },
  {
   "cell_type": "code",
   "execution_count": 168,
   "metadata": {
    "collapsed": false
   },
   "outputs": [
    {
     "data": {
      "text/html": [
       "<div>\n",
       "<table border=\"1\" class=\"dataframe\">\n",
       "  <thead>\n",
       "    <tr style=\"text-align: right;\">\n",
       "      <th></th>\n",
       "      <th>winner_name</th>\n",
       "      <th>elo_score</th>\n",
       "    </tr>\n",
       "    <tr>\n",
       "      <th>winner_id</th>\n",
       "      <th></th>\n",
       "      <th></th>\n",
       "    </tr>\n",
       "  </thead>\n",
       "  <tbody>\n",
       "    <tr>\n",
       "      <th>110023</th>\n",
       "      <td>Richard Coulthard</td>\n",
       "      <td>1000</td>\n",
       "    </tr>\n",
       "    <tr>\n",
       "      <th>109803</th>\n",
       "      <td>John Brown</td>\n",
       "      <td>1000</td>\n",
       "    </tr>\n",
       "    <tr>\n",
       "      <th>100257</th>\n",
       "      <td>Ross Case</td>\n",
       "      <td>1000</td>\n",
       "    </tr>\n",
       "    <tr>\n",
       "      <th>100105</th>\n",
       "      <td>Allan Stone</td>\n",
       "      <td>1000</td>\n",
       "    </tr>\n",
       "    <tr>\n",
       "      <th>109966</th>\n",
       "      <td>Warren Jacques</td>\n",
       "      <td>1000</td>\n",
       "    </tr>\n",
       "  </tbody>\n",
       "</table>\n",
       "</div>"
      ],
      "text/plain": [
       "                 winner_name  elo_score\n",
       "winner_id                              \n",
       "110023     Richard Coulthard       1000\n",
       "109803            John Brown       1000\n",
       "100257             Ross Case       1000\n",
       "100105           Allan Stone       1000\n",
       "109966        Warren Jacques       1000"
      ]
     },
     "execution_count": 168,
     "metadata": {},
     "output_type": "execute_result"
    }
   ],
   "source": [
    "player_unique_list.head()"
   ]
  },
  {
   "cell_type": "code",
   "execution_count": 169,
   "metadata": {
    "collapsed": false
   },
   "outputs": [
    {
     "data": {
      "text/html": [
       "<div>\n",
       "<table border=\"1\" class=\"dataframe\">\n",
       "  <thead>\n",
       "    <tr style=\"text-align: right;\">\n",
       "      <th></th>\n",
       "      <th>tourney_id</th>\n",
       "      <th>tourney_name</th>\n",
       "      <th>draw_size</th>\n",
       "      <th>tourney_level</th>\n",
       "      <th>winner_id</th>\n",
       "      <th>winner_name</th>\n",
       "      <th>loser_id</th>\n",
       "      <th>loser_name</th>\n",
       "      <th>score</th>\n",
       "      <th>best_of</th>\n",
       "      <th>round</th>\n",
       "      <th>score_diff</th>\n",
       "    </tr>\n",
       "    <tr>\n",
       "      <th>timestamp</th>\n",
       "      <th></th>\n",
       "      <th></th>\n",
       "      <th></th>\n",
       "      <th></th>\n",
       "      <th></th>\n",
       "      <th></th>\n",
       "      <th></th>\n",
       "      <th></th>\n",
       "      <th></th>\n",
       "      <th></th>\n",
       "      <th></th>\n",
       "      <th></th>\n",
       "    </tr>\n",
       "  </thead>\n",
       "  <tbody>\n",
       "    <tr>\n",
       "      <th>1968-01-19</th>\n",
       "      <td>1968-580</td>\n",
       "      <td>Australian Chps.</td>\n",
       "      <td>64</td>\n",
       "      <td>G</td>\n",
       "      <td>110023</td>\n",
       "      <td>Richard Coulthard</td>\n",
       "      <td>107760</td>\n",
       "      <td>Max Senior</td>\n",
       "      <td>12-10 7-5 4-6 7-5</td>\n",
       "      <td>5</td>\n",
       "      <td>R64</td>\n",
       "      <td>1.50</td>\n",
       "    </tr>\n",
       "    <tr>\n",
       "      <th>1968-01-19</th>\n",
       "      <td>1968-580</td>\n",
       "      <td>Australian Chps.</td>\n",
       "      <td>64</td>\n",
       "      <td>G</td>\n",
       "      <td>109803</td>\n",
       "      <td>John Brown</td>\n",
       "      <td>106964</td>\n",
       "      <td>Ernie Mccabe</td>\n",
       "      <td>6-3 6-2 6-4</td>\n",
       "      <td>5</td>\n",
       "      <td>R64</td>\n",
       "      <td>1.75</td>\n",
       "    </tr>\n",
       "    <tr>\n",
       "      <th>1968-01-19</th>\n",
       "      <td>1968-580</td>\n",
       "      <td>Australian Chps.</td>\n",
       "      <td>64</td>\n",
       "      <td>G</td>\n",
       "      <td>100257</td>\n",
       "      <td>Ross Case</td>\n",
       "      <td>110024</td>\n",
       "      <td>Gondo Widjojo</td>\n",
       "      <td>6-4 3-6 6-3 7-5</td>\n",
       "      <td>5</td>\n",
       "      <td>R64</td>\n",
       "      <td>1.50</td>\n",
       "    </tr>\n",
       "    <tr>\n",
       "      <th>1968-01-19</th>\n",
       "      <td>1968-580</td>\n",
       "      <td>Australian Chps.</td>\n",
       "      <td>64</td>\n",
       "      <td>G</td>\n",
       "      <td>100105</td>\n",
       "      <td>Allan Stone</td>\n",
       "      <td>110025</td>\n",
       "      <td>Robert Layton</td>\n",
       "      <td>6-4 6-2 6-1</td>\n",
       "      <td>5</td>\n",
       "      <td>R64</td>\n",
       "      <td>1.75</td>\n",
       "    </tr>\n",
       "    <tr>\n",
       "      <th>1968-01-19</th>\n",
       "      <td>1968-580</td>\n",
       "      <td>Australian Chps.</td>\n",
       "      <td>64</td>\n",
       "      <td>G</td>\n",
       "      <td>109966</td>\n",
       "      <td>Warren Jacques</td>\n",
       "      <td>110026</td>\n",
       "      <td>Bert Kearney</td>\n",
       "      <td>6-4 6-1 7-5</td>\n",
       "      <td>5</td>\n",
       "      <td>R64</td>\n",
       "      <td>1.75</td>\n",
       "    </tr>\n",
       "  </tbody>\n",
       "</table>\n",
       "</div>"
      ],
      "text/plain": [
       "           tourney_id      tourney_name draw_size tourney_level  winner_id  \\\n",
       "timestamp                                                                    \n",
       "1968-01-19   1968-580  Australian Chps.        64             G     110023   \n",
       "1968-01-19   1968-580  Australian Chps.        64             G     109803   \n",
       "1968-01-19   1968-580  Australian Chps.        64             G     100257   \n",
       "1968-01-19   1968-580  Australian Chps.        64             G     100105   \n",
       "1968-01-19   1968-580  Australian Chps.        64             G     109966   \n",
       "\n",
       "                  winner_name  loser_id     loser_name              score  \\\n",
       "timestamp                                                                   \n",
       "1968-01-19  Richard Coulthard    107760     Max Senior  12-10 7-5 4-6 7-5   \n",
       "1968-01-19         John Brown    106964   Ernie Mccabe        6-3 6-2 6-4   \n",
       "1968-01-19          Ross Case    110024  Gondo Widjojo    6-4 3-6 6-3 7-5   \n",
       "1968-01-19        Allan Stone    110025  Robert Layton        6-4 6-2 6-1   \n",
       "1968-01-19     Warren Jacques    110026   Bert Kearney        6-4 6-1 7-5   \n",
       "\n",
       "           best_of round  score_diff  \n",
       "timestamp                             \n",
       "1968-01-19       5   R64        1.50  \n",
       "1968-01-19       5   R64        1.75  \n",
       "1968-01-19       5   R64        1.50  \n",
       "1968-01-19       5   R64        1.75  \n",
       "1968-01-19       5   R64        1.75  "
      ]
     },
     "execution_count": 169,
     "metadata": {},
     "output_type": "execute_result"
    }
   ],
   "source": [
    "elo_df.head()"
   ]
  },
  {
   "cell_type": "code",
   "execution_count": 170,
   "metadata": {
    "collapsed": false
   },
   "outputs": [],
   "source": [
    "def elo_calc(row):\n",
    "    prev_elo_winner = player_unique_list.loc[row['winner_id'],'elo_score']\n",
    "    prev_elo_loser = player_unique_list.loc[row['loser_id'],'elo_score']\n",
    "    \n",
    "    exp_win = expected(prev_elo_winner, prev_elo_loser)\n",
    "    exp_lose = expected(prev_elo_loser, prev_elo_winner)\n",
    "    \n",
    "    elo_winner = elo(prev_elo_winner, exp_win, 1, row['score_diff'])\n",
    "    elo_loser = elo(prev_elo_loser, exp_lose, 0, row['score_diff'])\n",
    "    \n",
    "    player_unique_list.loc[row['winner_id'],'elo_score'] = elo_winner\n",
    "    player_unique_list.loc[row['loser_id'],'elo_score'] = elo_loser\n",
    "    \n",
    "    #return [elo_winner, elo_loser]\n",
    "\n",
    "    return pd.Series({'elo_winner': elo_winner, 'elo_loser':elo_loser}) "
   ]
  },
  {
   "cell_type": "code",
   "execution_count": 171,
   "metadata": {
    "collapsed": false,
    "scrolled": true
   },
   "outputs": [],
   "source": [
    "elo_scores = elo_df.apply(lambda x: elo_calc(x), axis = 1)"
   ]
  },
  {
   "cell_type": "code",
   "execution_count": 172,
   "metadata": {
    "collapsed": true
   },
   "outputs": [],
   "source": [
    "elo_df = pd.merge(elo_df, elo_scores, left_index = True, right_index = True)"
   ]
  },
  {
   "cell_type": "code",
   "execution_count": 174,
   "metadata": {
    "collapsed": false
   },
   "outputs": [
    {
     "data": {
      "text/html": [
       "<div>\n",
       "<table border=\"1\" class=\"dataframe\">\n",
       "  <thead>\n",
       "    <tr style=\"text-align: right;\">\n",
       "      <th></th>\n",
       "      <th>tourney_id</th>\n",
       "      <th>tourney_name</th>\n",
       "      <th>draw_size</th>\n",
       "      <th>tourney_level</th>\n",
       "      <th>winner_id</th>\n",
       "      <th>winner_name</th>\n",
       "      <th>loser_id</th>\n",
       "      <th>loser_name</th>\n",
       "      <th>score</th>\n",
       "      <th>best_of</th>\n",
       "      <th>round</th>\n",
       "      <th>score_diff</th>\n",
       "      <th>elo_loser</th>\n",
       "      <th>elo_winner</th>\n",
       "    </tr>\n",
       "    <tr>\n",
       "      <th>timestamp</th>\n",
       "      <th></th>\n",
       "      <th></th>\n",
       "      <th></th>\n",
       "      <th></th>\n",
       "      <th></th>\n",
       "      <th></th>\n",
       "      <th></th>\n",
       "      <th></th>\n",
       "      <th></th>\n",
       "      <th></th>\n",
       "      <th></th>\n",
       "      <th></th>\n",
       "      <th></th>\n",
       "      <th></th>\n",
       "    </tr>\n",
       "  </thead>\n",
       "  <tbody>\n",
       "    <tr>\n",
       "      <th>2017-02-03</th>\n",
       "      <td>2017-M-DC-2017-WG-M-SUI-USA-01</td>\n",
       "      <td>Davis Cup WG R1: SUI vs USA</td>\n",
       "      <td>4</td>\n",
       "      <td>D</td>\n",
       "      <td>105449</td>\n",
       "      <td>Steve Johnson</td>\n",
       "      <td>134472</td>\n",
       "      <td>Antoine Bellier</td>\n",
       "      <td>6-4 6-3</td>\n",
       "      <td>3</td>\n",
       "      <td>RR</td>\n",
       "      <td>1.75</td>\n",
       "      <td>995.421204</td>\n",
       "      <td>1142.345335</td>\n",
       "    </tr>\n",
       "    <tr>\n",
       "      <th>2017-02-03</th>\n",
       "      <td>2017-M-DC-2017-WG-M-SUI-USA-01</td>\n",
       "      <td>Davis Cup WG R1: SUI vs USA</td>\n",
       "      <td>4</td>\n",
       "      <td>D</td>\n",
       "      <td>105449</td>\n",
       "      <td>Steve Johnson</td>\n",
       "      <td>134472</td>\n",
       "      <td>Antoine Bellier</td>\n",
       "      <td>6-4 6-3</td>\n",
       "      <td>3</td>\n",
       "      <td>RR</td>\n",
       "      <td>1.75</td>\n",
       "      <td>1023.678248</td>\n",
       "      <td>1469.653402</td>\n",
       "    </tr>\n",
       "    <tr>\n",
       "      <th>2017-02-03</th>\n",
       "      <td>2017-M-DC-2017-WG-M-SUI-USA-01</td>\n",
       "      <td>Davis Cup WG R1: SUI vs USA</td>\n",
       "      <td>4</td>\n",
       "      <td>D</td>\n",
       "      <td>105449</td>\n",
       "      <td>Steve Johnson</td>\n",
       "      <td>134472</td>\n",
       "      <td>Antoine Bellier</td>\n",
       "      <td>6-4 6-3</td>\n",
       "      <td>3</td>\n",
       "      <td>RR</td>\n",
       "      <td>1.75</td>\n",
       "      <td>1036.610130</td>\n",
       "      <td>1415.141020</td>\n",
       "    </tr>\n",
       "    <tr>\n",
       "      <th>2017-02-03</th>\n",
       "      <td>2017-M-DC-2017-WG-M-SUI-USA-01</td>\n",
       "      <td>Davis Cup WG R1: SUI vs USA</td>\n",
       "      <td>4</td>\n",
       "      <td>D</td>\n",
       "      <td>105449</td>\n",
       "      <td>Steve Johnson</td>\n",
       "      <td>134472</td>\n",
       "      <td>Antoine Bellier</td>\n",
       "      <td>6-4 6-3</td>\n",
       "      <td>3</td>\n",
       "      <td>RR</td>\n",
       "      <td>1.75</td>\n",
       "      <td>936.517316</td>\n",
       "      <td>1253.978868</td>\n",
       "    </tr>\n",
       "    <tr>\n",
       "      <th>2017-02-03</th>\n",
       "      <td>2017-M-DC-2017-WG-M-SUI-USA-01</td>\n",
       "      <td>Davis Cup WG R1: SUI vs USA</td>\n",
       "      <td>4</td>\n",
       "      <td>D</td>\n",
       "      <td>105449</td>\n",
       "      <td>Steve Johnson</td>\n",
       "      <td>134472</td>\n",
       "      <td>Antoine Bellier</td>\n",
       "      <td>6-4 6-3</td>\n",
       "      <td>3</td>\n",
       "      <td>RR</td>\n",
       "      <td>1.75</td>\n",
       "      <td>980.887899</td>\n",
       "      <td>1356.793167</td>\n",
       "    </tr>\n",
       "  </tbody>\n",
       "</table>\n",
       "</div>"
      ],
      "text/plain": [
       "                                tourney_id                 tourney_name  \\\n",
       "timestamp                                                                 \n",
       "2017-02-03  2017-M-DC-2017-WG-M-SUI-USA-01  Davis Cup WG R1: SUI vs USA   \n",
       "2017-02-03  2017-M-DC-2017-WG-M-SUI-USA-01  Davis Cup WG R1: SUI vs USA   \n",
       "2017-02-03  2017-M-DC-2017-WG-M-SUI-USA-01  Davis Cup WG R1: SUI vs USA   \n",
       "2017-02-03  2017-M-DC-2017-WG-M-SUI-USA-01  Davis Cup WG R1: SUI vs USA   \n",
       "2017-02-03  2017-M-DC-2017-WG-M-SUI-USA-01  Davis Cup WG R1: SUI vs USA   \n",
       "\n",
       "           draw_size tourney_level  winner_id    winner_name  loser_id  \\\n",
       "timestamp                                                                \n",
       "2017-02-03         4             D     105449  Steve Johnson    134472   \n",
       "2017-02-03         4             D     105449  Steve Johnson    134472   \n",
       "2017-02-03         4             D     105449  Steve Johnson    134472   \n",
       "2017-02-03         4             D     105449  Steve Johnson    134472   \n",
       "2017-02-03         4             D     105449  Steve Johnson    134472   \n",
       "\n",
       "                 loser_name    score best_of round  score_diff    elo_loser  \\\n",
       "timestamp                                                                     \n",
       "2017-02-03  Antoine Bellier  6-4 6-3       3    RR        1.75   995.421204   \n",
       "2017-02-03  Antoine Bellier  6-4 6-3       3    RR        1.75  1023.678248   \n",
       "2017-02-03  Antoine Bellier  6-4 6-3       3    RR        1.75  1036.610130   \n",
       "2017-02-03  Antoine Bellier  6-4 6-3       3    RR        1.75   936.517316   \n",
       "2017-02-03  Antoine Bellier  6-4 6-3       3    RR        1.75   980.887899   \n",
       "\n",
       "             elo_winner  \n",
       "timestamp                \n",
       "2017-02-03  1142.345335  \n",
       "2017-02-03  1469.653402  \n",
       "2017-02-03  1415.141020  \n",
       "2017-02-03  1253.978868  \n",
       "2017-02-03  1356.793167  "
      ]
     },
     "execution_count": 174,
     "metadata": {},
     "output_type": "execute_result"
    }
   ],
   "source": [
    "elo_df.tail()"
   ]
  },
  {
   "cell_type": "code",
   "execution_count": 221,
   "metadata": {
    "collapsed": false
   },
   "outputs": [],
   "source": [
    "roger_federer = elo_df[elo_df['winner_name'] == 'Roger Federer']['elo_winner']\n",
    "novak_djokovic = elo_df[elo_df['winner_name'] == 'Novak Djokovic']['elo_winner']"
   ]
  },
  {
   "cell_type": "code",
   "execution_count": 189,
   "metadata": {
    "collapsed": true
   },
   "outputs": [],
   "source": [
    "%matplotlib inline\n",
    "import matplotlib.pyplot as plt"
   ]
  },
  {
   "cell_type": "code",
   "execution_count": 222,
   "metadata": {
    "collapsed": false
   },
   "outputs": [],
   "source": [
    "roger_federer = roger_federer.groupby(level=0).mean()\n",
    "novak_djokovic = novak_djokovic.groupby(level=0).mean()"
   ]
  },
  {
   "cell_type": "code",
   "execution_count": 223,
   "metadata": {
    "collapsed": false
   },
   "outputs": [
    {
     "data": {
      "text/plain": [
       "<matplotlib.axes._subplots.AxesSubplot at 0x11fe2d780>"
      ]
     },
     "execution_count": 223,
     "metadata": {},
     "output_type": "execute_result"
    },
    {
     "data": {
      "image/png": "[encoded data removed]",
      "text/plain": [
       "<matplotlib.figure.Figure at 0x1122e66a0>"
      ]
     },
     "metadata": {},
     "output_type": "display_data"
    }
   ],
   "source": [
    "roger_federer.plot()\n",
    "novak_djokovic.plot()"
   ]
  },
  {
   "cell_type": "code",
   "execution_count": null,
   "metadata": {
    "collapsed": true
   },
   "outputs": [],
   "source": []
  }
 ],
 "metadata": {
  "anaconda-cloud": {},
  "kernelspec": {
   "display_name": "Python [conda root]",
   "language": "python",
   "name": "conda-root-py"
  },
  "language_info": {
   "codemirror_mode": {
    "name": "ipython",
    "version": 3
   },
   "file_extension": ".py",
   "mimetype": "text/x-python",
   "name": "python",
   "nbconvert_exporter": "python",
   "pygments_lexer": "ipython3",
   "version": "3.5.2"
  }
 },
 "nbformat": 4,
 "nbformat_minor": 1
}
